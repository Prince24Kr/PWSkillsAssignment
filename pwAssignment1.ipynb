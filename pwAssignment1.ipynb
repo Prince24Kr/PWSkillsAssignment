{
  "nbformat": 4,
  "nbformat_minor": 0,
  "metadata": {
    "colab": {
      "provenance": []
    },
    "kernelspec": {
      "name": "python3",
      "display_name": "Python 3"
    },
    "language_info": {
      "name": "python"
    }
  },
  "cells": [
    {
      "cell_type": "code",
      "execution_count": 10,
      "metadata": {
        "id": "jkub9AxI-eDn"
      },
      "outputs": [],
      "source": []
    },
    {
      "cell_type": "markdown",
      "source": [
        "1. What is Python, and why is it popular?\n",
        "Ans. Python is a interpreted programming languange which is written in simple english language.\n",
        "   Its simple enlish language,open source and a large variety of libraries make it more popular."
      ],
      "metadata": {
        "id": "5OMXlILh7NEL"
      }
    },
    {
      "cell_type": "markdown",
      "source": [
        "2. What is an interpreter in Python ?\n",
        "Ans. An interpreter in Python is a program that reads, translates, and executes Python code line by line. A code written in python is not understandable to computer it then interprets, understands and then translates to machine code to exwecute it."
      ],
      "metadata": {
        "id": "_ayD-UcJ8my9"
      }
    },
    {
      "cell_type": "markdown",
      "source": [
        "3. What are pre-defined keywords in Python ?\n",
        "Ans. Pre-defined keywords in Python are reserved words that have special meaning in the language. They are part of Python's syntax and cannot be used as variable names, function names, or identifiers. Ex- True, false, int, float,etc"
      ],
      "metadata": {
        "id": "zF3TUto49vKd"
      }
    },
    {
      "cell_type": "markdown",
      "source": [
        "4. Can keywords be used as variable names ?\n",
        "Ans. No"
      ],
      "metadata": {
        "id": "ZgApRxE9-YLh"
      }
    },
    {
      "cell_type": "markdown",
      "source": [
        "5. What is mutability in Python ?\n",
        "Ans. It means we can edit , change, delete, add items after it is created.\n"
      ],
      "metadata": {
        "id": "WEcFziMB-pzJ"
      }
    },
    {
      "cell_type": "markdown",
      "source": [
        "6. Why are lists mutable, but tuples are immutable ?\n",
        "Ans. Mutable means we can change the value, edit it, modify but in immutable no changes ccan be done.\n",
        "List,Set,dictionary are example of mutable where as tuple,string are example of immutable."
      ],
      "metadata": {
        "id": "c12l6Yot_Y-K"
      }
    },
    {
      "cell_type": "markdown",
      "source": [
        "7. What is the difference between “==” and “is” operators in Python ?\n",
        "Ans.  “==” is equal to operator and “is” is an identity operator. The difference between both is that equal to operator compares the value where as idebtity operator compares the memory location."
      ],
      "metadata": {
        "id": "VqPuVSRKAN8-"
      }
    },
    {
      "cell_type": "markdown",
      "source": [
        "8. What are logical operators in Python ?\n",
        "Ans. Logical operators are used to combine conditional statements and return bolean values true and false. There are 3 types of logical operators i.e; and,or and not. And rerturns true if both are true. Or returns true if any statement is true. Not reverses the statement i.e; true to false and false to true."
      ],
      "metadata": {
        "id": "WY3aimfjBNC2"
      }
    },
    {
      "cell_type": "markdown",
      "source": [
        "9. What is type casting in Python ?\n",
        "Ans. Converting of one data type into another. It is used to perform operations."
      ],
      "metadata": {
        "id": "SNx4GJXnCzXW"
      }
    },
    {
      "cell_type": "markdown",
      "source": [
        "10. What is the difference between implicit and explicit type casting ?\n",
        "Ans. Implicit type casting is automatic casting where it automatically converts. Explicit type casting is casting which is done manually according top your requirement."
      ],
      "metadata": {
        "id": "AVkcmYImD0_F"
      }
    },
    {
      "cell_type": "markdown",
      "source": [
        "11. What is the purpose of conditional statements in Python ?\n",
        "Ans. Conditional statements helps program to make decisions according to the conditions."
      ],
      "metadata": {
        "id": "V8TnklA4Hj7w"
      }
    },
    {
      "cell_type": "markdown",
      "source": [
        "12. How does the elif statement work ?\n",
        "Ans. The elif  is the short form of \"else if\" statement. It is used to check multiple conditions in Python. It allows to check several conditions one after another, and the first one that is True will run. If none of the conditions are true, the else block will execute if else block is there."
      ],
      "metadata": {
        "id": "6EsvsF2jI0nT"
      }
    },
    {
      "cell_type": "markdown",
      "source": [
        "13. What is the difference between for and while loops ?\n",
        "Ans. In for loop you start and end until then the loop will run but in while loop you don't know how many times the loop has to run."
      ],
      "metadata": {
        "id": "lx2nFAmpJic8"
      }
    },
    {
      "cell_type": "markdown",
      "source": [
        "14. Describe a scenario where a while loop is more suitable than a for loop.\n",
        "Ans. In for loop we would require guessing the number of attempts, which is not possible. Where we don't know the till when the loop has to run , we go for while loop and when the condition is met it executes the result."
      ],
      "metadata": {
        "id": "W0UF0aQNZ6CP"
      }
    },
    {
      "cell_type": "markdown",
      "source": [
        "**Practical Questions & Solutions**"
      ],
      "metadata": {
        "id": "grVBOcoma6cm"
      }
    },
    {
      "cell_type": "markdown",
      "source": [
        "1. Write a Python program to print \"Hello, World!\""
      ],
      "metadata": {
        "id": "y3obKMW9bDyl"
      }
    },
    {
      "cell_type": "code",
      "source": [
        "print(\"Hello, World!\")"
      ],
      "metadata": {
        "colab": {
          "base_uri": "https://localhost:8080/"
        },
        "id": "TXuNhqz6bS4k",
        "outputId": "4d77a2b1-16cc-4a51-e7d4-0ed6db73547a"
      },
      "execution_count": 11,
      "outputs": [
        {
          "output_type": "stream",
          "name": "stdout",
          "text": [
            "Hello, World!\n"
          ]
        }
      ]
    },
    {
      "cell_type": "markdown",
      "source": [
        "2. Write a Python program that displays your name and age"
      ],
      "metadata": {
        "id": "5MYs6ymIbg-s"
      }
    },
    {
      "cell_type": "code",
      "source": [
        "print(\"Prince Kumar, 33\")"
      ],
      "metadata": {
        "colab": {
          "base_uri": "https://localhost:8080/"
        },
        "id": "YCnLHuXqbozs",
        "outputId": "ed105511-b89a-459e-af23-3fd36e029934"
      },
      "execution_count": 12,
      "outputs": [
        {
          "output_type": "stream",
          "name": "stdout",
          "text": [
            "Prince Kumar, 33\n"
          ]
        }
      ]
    },
    {
      "cell_type": "markdown",
      "source": [
        "3. Write code to print all the pre-defined keywords in Python using the keyword library"
      ],
      "metadata": {
        "id": "c_JoLLFBb2Tc"
      }
    },
    {
      "cell_type": "code",
      "source": [
        "print(\"Python Keywords:\")\n",
        "for a in keyword.kwlist:\n",
        "    print(a, end=\", \")"
      ],
      "metadata": {
        "colab": {
          "base_uri": "https://localhost:8080/"
        },
        "id": "c-XAQGy2cSnM",
        "outputId": "25a8633a-45ab-4b4a-895a-7f1c65e51fe1"
      },
      "execution_count": 21,
      "outputs": [
        {
          "output_type": "stream",
          "name": "stdout",
          "text": [
            "Python Keywords:\n",
            "False, None, True, and, as, assert, async, await, break, class, continue, def, del, elif, else, except, finally, for, from, global, if, import, in, is, lambda, nonlocal, not, or, pass, raise, return, try, while, with, yield, "
          ]
        }
      ]
    },
    {
      "cell_type": "markdown",
      "source": [
        "4. Write a program that checks if a given word is a Python keyword."
      ],
      "metadata": {
        "id": "1SA8tDZBc-XE"
      }
    },
    {
      "cell_type": "code",
      "source": [
        "word = input(\"Enter a word to check: \")\n",
        "\n",
        "if keyword.iskeyword(word):\n",
        "    print(f\"'{word}' is a Python keyword.\")\n",
        "else:\n",
        "    print(f\"'{word}' is NOT a Python keyword.\")\n"
      ],
      "metadata": {
        "colab": {
          "base_uri": "https://localhost:8080/"
        },
        "id": "LpJE_SWJdDgr",
        "outputId": "42e1d8d4-2d8f-4afd-c05d-f497c02b55a6"
      },
      "execution_count": 24,
      "outputs": [
        {
          "output_type": "stream",
          "name": "stdout",
          "text": [
            "Enter a word to check: while\n",
            "'while' is a Python keyword.\n"
          ]
        }
      ]
    },
    {
      "cell_type": "markdown",
      "source": [
        "5. Create a list and tuple in Python, and demonstrate how attempting to change an element works differently for each."
      ],
      "metadata": {
        "id": "_v6aHzAid5eL"
      }
    },
    {
      "cell_type": "code",
      "source": [
        "my_list=[1,2,3,4]\n",
        "my_tuple=(5,6,7,8)\n",
        "my_list[1] = 0\n",
        "print( my_list)"
      ],
      "metadata": {
        "colab": {
          "base_uri": "https://localhost:8080/"
        },
        "id": "zsgtZ_nbeBmr",
        "outputId": "6cea415d-ba46-4e9e-b2b1-9a213084e156"
      },
      "execution_count": 28,
      "outputs": [
        {
          "output_type": "stream",
          "name": "stdout",
          "text": [
            "[1, 0, 3, 4]\n"
          ]
        }
      ]
    },
    {
      "cell_type": "code",
      "source": [
        "my_tuple[1] = 0\n",
        "print(my_tuple)"
      ],
      "metadata": {
        "colab": {
          "base_uri": "https://localhost:8080/",
          "height": 159
        },
        "id": "sFY-ZiLif6r9",
        "outputId": "a0a30d4b-072a-4aa5-f11b-ae6814b25793"
      },
      "execution_count": 29,
      "outputs": [
        {
          "output_type": "error",
          "ename": "TypeError",
          "evalue": "'tuple' object does not support item assignment",
          "traceback": [
            "\u001b[0;31m---------------------------------------------------------------------------\u001b[0m",
            "\u001b[0;31mTypeError\u001b[0m                                 Traceback (most recent call last)",
            "\u001b[0;32m<ipython-input-29-2694189869>\u001b[0m in \u001b[0;36m<cell line: 0>\u001b[0;34m()\u001b[0m\n\u001b[0;32m----> 1\u001b[0;31m \u001b[0mmy_tuple\u001b[0m\u001b[0;34m[\u001b[0m\u001b[0;36m1\u001b[0m\u001b[0;34m]\u001b[0m \u001b[0;34m=\u001b[0m \u001b[0;36m0\u001b[0m\u001b[0;34m\u001b[0m\u001b[0;34m\u001b[0m\u001b[0m\n\u001b[0m\u001b[1;32m      2\u001b[0m \u001b[0mprint\u001b[0m\u001b[0;34m(\u001b[0m\u001b[0mmy_tuple\u001b[0m\u001b[0;34m)\u001b[0m\u001b[0;34m\u001b[0m\u001b[0;34m\u001b[0m\u001b[0m\n",
            "\u001b[0;31mTypeError\u001b[0m: 'tuple' object does not support item assignment"
          ]
        }
      ]
    },
    {
      "cell_type": "markdown",
      "source": [
        "6. Write a function to demonstrate the behavior of mutable and immutable arguments"
      ],
      "metadata": {
        "id": "5gnfGjUNf_wF"
      }
    },
    {
      "cell_type": "code",
      "source": [
        "def behav(a, b):\n",
        "    a = 40\n",
        "    b.append(4)\n",
        "\n",
        "x = 5\n",
        "y = [1, 2, 3]\n",
        "\n",
        "behav(x, y)\n",
        "\n",
        "print(\"x:\", x)\n",
        "print(\"y:\", y)\n"
      ],
      "metadata": {
        "colab": {
          "base_uri": "https://localhost:8080/"
        },
        "id": "KNi6hROBgfUE",
        "outputId": "dbef1bef-0006-4b2f-ba44-f278dd735862"
      },
      "execution_count": 40,
      "outputs": [
        {
          "output_type": "stream",
          "name": "stdout",
          "text": [
            "x: 5\n",
            "y: [1, 2, 3, 4]\n"
          ]
        }
      ]
    },
    {
      "cell_type": "markdown",
      "source": [
        "7. Write a program that performs basic arithmetic operations on two user-input numbers"
      ],
      "metadata": {
        "id": "1bi5KC9ViA1b"
      }
    },
    {
      "cell_type": "code",
      "source": [
        "a =  int(input(\"enter a number :\"))\n",
        "b = int(input(\"enter a number :\"))\n",
        "addition = a + b\n",
        "subtraction = a - b\n",
        "multiplication = a * b\n",
        "if b != 0 and b<=a:\n",
        "    division = a / b\n",
        "else:\n",
        "    division = \"Error: Division by zero is not allowed and Denominator is greater than numerator\"\n",
        "\n",
        "print(\"Addition: \", addition)\n",
        "print(\"Subtraction: \", subtraction)\n",
        "print(\"Multiplication: \", multiplication)\n",
        "print(\"Division: \", division)"
      ],
      "metadata": {
        "colab": {
          "base_uri": "https://localhost:8080/"
        },
        "id": "Wfxnt5aAicJj",
        "outputId": "128d7b96-e24e-42f3-a8d2-f431099a6604"
      },
      "execution_count": 46,
      "outputs": [
        {
          "output_type": "stream",
          "name": "stdout",
          "text": [
            "enter a number :2\n",
            "enter a number :4\n",
            "Addition:  6\n",
            "Subtraction:  -2\n",
            "Multiplication:  8\n",
            "Division:  Error: Division by zero is not allowed and Denominator is greater than numerator\n"
          ]
        }
      ]
    },
    {
      "cell_type": "markdown",
      "source": [
        "8. Write a program to demonstrate the use of logical operators."
      ],
      "metadata": {
        "id": "EmpwYZJMky6L"
      }
    },
    {
      "cell_type": "code",
      "source": [
        "x = 10\n",
        "y = 5\n",
        "print(x > y and y < x)\n",
        "print(x < y or y < x)\n",
        "print(not(x > y))"
      ],
      "metadata": {
        "colab": {
          "base_uri": "https://localhost:8080/"
        },
        "id": "k5R0lUSKk2jT",
        "outputId": "cccb1f68-64ca-4344-f9ea-32e13f2ae23d"
      },
      "execution_count": 47,
      "outputs": [
        {
          "output_type": "stream",
          "name": "stdout",
          "text": [
            "True\n",
            "True\n",
            "False\n"
          ]
        }
      ]
    },
    {
      "cell_type": "markdown",
      "source": [
        "9. Write a Python program to convert user input from string to integer, float, and boolean types."
      ],
      "metadata": {
        "id": "ZAnO8WE5lZ_s"
      }
    },
    {
      "cell_type": "code",
      "source": [
        "value = input(\"Enter a number: \")\n",
        "a = int(value)\n",
        "print(\"integer:\", a)\n",
        "b= float(value)\n",
        "print(\"float:\", b)\n",
        "c = bool(value)\n",
        "print(\"boolean:\", c)"
      ],
      "metadata": {
        "colab": {
          "base_uri": "https://localhost:8080/"
        },
        "id": "BM35kyPulbhc",
        "outputId": "27f9d4bc-3b81-4ee8-ce6f-d5812756440d"
      },
      "execution_count": 53,
      "outputs": [
        {
          "output_type": "stream",
          "name": "stdout",
          "text": [
            "Enter a number: 4\n",
            "integer: 4\n",
            "float: 4.0\n",
            "boolean: True\n"
          ]
        }
      ]
    },
    {
      "cell_type": "markdown",
      "source": [
        "10. Write code to demonstrate type casting with list elements"
      ],
      "metadata": {
        "id": "1t2wfjNumyVE"
      }
    },
    {
      "cell_type": "code",
      "source": [
        "str_list = ['1', '2', '3', '4', '5']\n",
        "\n",
        "int_list = [int(item) for item in str_list]\n",
        "\n",
        "\n",
        "float_list = [float(item) for item in int_list]\n",
        "\n",
        "\n",
        "str_list_again = [str(item) for item in float_list]\n",
        "\n",
        "print(\"Original string list:\", str_list)\n",
        "print(\"After casting to integers:\", int_list)\n",
        "print(\"After casting to floats:\", float_list)\n",
        "print(\"After casting floats back to strings:\", str_list_again)"
      ],
      "metadata": {
        "colab": {
          "base_uri": "https://localhost:8080/"
        },
        "id": "OYJM8xbem149",
        "outputId": "1986a1f7-a3d9-4dbd-9966-825fbbbe0e71"
      },
      "execution_count": 54,
      "outputs": [
        {
          "output_type": "stream",
          "name": "stdout",
          "text": [
            "Original string list: ['1', '2', '3', '4', '5']\n",
            "After casting to integers: [1, 2, 3, 4, 5]\n",
            "After casting to floats: [1.0, 2.0, 3.0, 4.0, 5.0]\n",
            "After casting floats back to strings: ['1.0', '2.0', '3.0', '4.0', '5.0']\n"
          ]
        }
      ]
    },
    {
      "cell_type": "markdown",
      "source": [
        "11. Write a program that checks if a number is positive, negative, or zero"
      ],
      "metadata": {
        "id": "LNZDEjH1y-Kz"
      }
    },
    {
      "cell_type": "code",
      "source": [
        "num = float(input(\"Enter a number: \"))\n",
        "\n",
        "if num > 0:\n",
        "    print(\"The number is positive.\")\n",
        "elif num < 0:\n",
        "    print(\"The number is negative.\")\n",
        "else:\n",
        "    print(\"The number is zero.\")\n"
      ],
      "metadata": {
        "colab": {
          "base_uri": "https://localhost:8080/"
        },
        "id": "gE8DKiw2zBPb",
        "outputId": "0089f5cb-7ac9-41b8-a25d-4268892c5f50"
      },
      "execution_count": 58,
      "outputs": [
        {
          "output_type": "stream",
          "name": "stdout",
          "text": [
            "Enter a number: 74\n",
            "The number is positive.\n"
          ]
        }
      ]
    },
    {
      "cell_type": "markdown",
      "source": [
        "12. Write a for loop to print numbers from 1 to 10."
      ],
      "metadata": {
        "id": "yvDVZttfzYHq"
      }
    },
    {
      "cell_type": "code",
      "source": [
        "for i in range(1, 11):\n",
        "    print(i)"
      ],
      "metadata": {
        "colab": {
          "base_uri": "https://localhost:8080/"
        },
        "id": "T7UtrDnqzbJs",
        "outputId": "8cf6dce7-eaf3-44d0-a5c6-cab792ef60cb"
      },
      "execution_count": 59,
      "outputs": [
        {
          "output_type": "stream",
          "name": "stdout",
          "text": [
            "1\n",
            "2\n",
            "3\n",
            "4\n",
            "5\n",
            "6\n",
            "7\n",
            "8\n",
            "9\n",
            "10\n"
          ]
        }
      ]
    },
    {
      "cell_type": "markdown",
      "source": [
        "13. Write a Python program to find the sum of all even numbers between 1 and 50."
      ],
      "metadata": {
        "id": "-kDDGbYJz2r6"
      }
    },
    {
      "cell_type": "code",
      "source": [
        "sum = 0\n",
        "for num in range(1, 51):\n",
        "    if num % 2 == 0:\n",
        "        sum = sum + num\n",
        "print(\"Sum of all even numbers between 1 and 50 is:\", sum)\n"
      ],
      "metadata": {
        "colab": {
          "base_uri": "https://localhost:8080/"
        },
        "id": "K8zhLuRQz5UG",
        "outputId": "f10c0fd4-2994-4957-cf02-31789e93ad66"
      },
      "execution_count": 61,
      "outputs": [
        {
          "output_type": "stream",
          "name": "stdout",
          "text": [
            "Sum of all even numbers between 1 and 50 is: 650\n"
          ]
        }
      ]
    },
    {
      "cell_type": "markdown",
      "source": [
        "14. Write a program to reverse a string using a while loop."
      ],
      "metadata": {
        "id": "0Nx3_VJJ0bZy"
      }
    },
    {
      "cell_type": "code",
      "source": [
        "s = input(\"enter a string:\")\n",
        "rev = \"\"\n",
        "i = len(s) - 1\n",
        "while i >= 0:\n",
        "    rev = rev + s[i]\n",
        "    i = i - 1\n",
        "print(rev)\n"
      ],
      "metadata": {
        "colab": {
          "base_uri": "https://localhost:8080/"
        },
        "id": "9Ph1UH3z0eWq",
        "outputId": "13f73491-fe53-42a6-fd17-7de598fe83e0"
      },
      "execution_count": 64,
      "outputs": [
        {
          "output_type": "stream",
          "name": "stdout",
          "text": [
            "enter a string:fat\n",
            "taf\n"
          ]
        }
      ]
    },
    {
      "cell_type": "markdown",
      "source": [
        "15. Write a Python program to calculate the factorial of a number provided by the user using a while loop."
      ],
      "metadata": {
        "id": "EytvNE781XsK"
      }
    },
    {
      "cell_type": "code",
      "source": [
        "num = int(input(\"Enter a positive number: \"))\n",
        "\n",
        "if num < 0:\n",
        "    print(\"It is a negative number.\")\n",
        "else:\n",
        "    fact = 1\n",
        "    i = 1\n",
        "\n",
        "    while i <= num:\n",
        "        fact = fact * i\n",
        "        i += 1\n",
        "\n",
        "    print(f\"The factorial of {num} is {fact}.\")\n"
      ],
      "metadata": {
        "colab": {
          "base_uri": "https://localhost:8080/"
        },
        "id": "qTorjyuu1a3S",
        "outputId": "e137d679-fff2-4b2f-f2e6-1bf3144a567d"
      },
      "execution_count": 67,
      "outputs": [
        {
          "output_type": "stream",
          "name": "stdout",
          "text": [
            "Enter a positive number: 0\n",
            "The factorial of 0 is 1.\n"
          ]
        }
      ]
    }
  ]
}