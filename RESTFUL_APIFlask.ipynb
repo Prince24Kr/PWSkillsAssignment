{
  "nbformat": 4,
  "nbformat_minor": 0,
  "metadata": {
    "colab": {
      "provenance": []
    },
    "kernelspec": {
      "name": "python3",
      "display_name": "Python 3"
    },
    "language_info": {
      "name": "python"
    }
  },
  "cells": [
    {
      "cell_type": "markdown",
      "source": [
        "1. What is a RESTful API ?\n",
        "Ans. A RESTful API (short for Representational State Transfer API) is a web service that follows the principles of REST architecture. It's a way for different software systems to communicate over the internet using standard HTTP methods like GET, POST, PUT, and DELETE."
      ],
      "metadata": {
        "id": "h5VhBgyerg8i"
      }
    },
    {
      "cell_type": "markdown",
      "source": [
        "2. Explain the concept of API specification\n",
        "Ans. An API specification is a detailed, formal description of how an API works. It defines how clients should interact with the API, what data it accepts and returns, and what behavior to expect. Think of it like a contract between the API provider and consumers."
      ],
      "metadata": {
        "id": "OfppjS08rw4E"
      }
    },
    {
      "cell_type": "markdown",
      "source": [
        "3. What is Flask, and why is it popular for building APIs ?\n",
        "Ans. Flask is a micro web framework for Python that's used to build web applications and APIs. It is lightweight, flexible, and easy to use, making it particularly popular for developing RESTful APIs and small to medium-sized web applications."
      ],
      "metadata": {
        "id": "KkOTNQoBr9uK"
      }
    },
    {
      "cell_type": "markdown",
      "source": [
        "4. What is routing in Flask ?\n",
        "Ans. Routing in Flask refers to the process of mapping URLs (also known as endpoints) to specific functions in Python code. When a client makes a request to a particular URL, Flask uses routing to determine which function should handle that request."
      ],
      "metadata": {
        "id": "SPjktw-WsJES"
      }
    },
    {
      "cell_type": "markdown",
      "source": [
        "5. How do you create a simple Flask application ?\n",
        "Ans. To create a simple Flask application:\n",
        "To install flask run pip install flask in your terminal.\n",
        "Create a Python file (e.g., app.py) and write the following code:\n",
        "from flask import Flask\n",
        "Run the app:\n",
        "In the terminal, type python app.py to start the server."
      ],
      "metadata": {
        "id": "EFZrWTaPsRLa"
      }
    },
    {
      "cell_type": "markdown",
      "source": [
        "6. What are HTTP methods used in RESTful APIs ?\n",
        "Ans. HTTP Methods used In RESTful APIs are  :\n",
        "GET -\tRetrieve data (read)\n",
        "POST - Create new data\n",
        "PUT -\tUpdate data\n",
        "PATCH\t - Update data (partial)\n",
        "DELETE -\tRemove data\t(DELETE)"
      ],
      "metadata": {
        "id": "g0CXI-Rys1jb"
      }
    },
    {
      "cell_type": "markdown",
      "source": [
        "7. What is the purpose of the @app.route() decorator in Flask ?\n",
        "Ans. The @app.route() decorator allows us to link URLs to functions, enabling Flask to handle requests and define responses for different endpoints in a web application or API."
      ],
      "metadata": {
        "id": "_s-GeYSFthDq"
      }
    },
    {
      "cell_type": "markdown",
      "source": [
        "8. What is the difference between GET and POST HTTP methods ?\n",
        "Ans. GET: Used to retrieve data without side effects. It is visible and can be cached.\n",
        "\n",
        "POST: Used to send data to the server to create or modify resources. It is hidden in the request body and can be used for larger or more sensitive data."
      ],
      "metadata": {
        "id": "4phRmYMHt3J6"
      }
    },
    {
      "cell_type": "markdown",
      "source": [
        "9. How do you handle errors in Flask APIs ?\n",
        "Ans. @app.errorhandler(): Customizes error responses (like 404, 500).\n",
        "\n",
        "abort(): Immediately stops a request and sends an error (like 403).\n",
        "\n",
        "Return JSON: Send clear error messages in JSON format (like missing data)."
      ],
      "metadata": {
        "id": "s-zmriMXuH5R"
      }
    },
    {
      "cell_type": "markdown",
      "source": [
        "10.  How do you connect Flask to a SQL database ?\n",
        "Ans. By using Flask-SQLAlchemy, we can easily connect Flask to a SQL database, define models, and perform database operations like adding and retrieving data with Python code. SQLAlchemy makes working with SQL databases in Flask much more efficient and easier by allowing us to use Python objects instead of writing raw SQL queries."
      ],
      "metadata": {
        "id": "-H6hjXa_upVZ"
      }
    },
    {
      "cell_type": "markdown",
      "source": [
        "11. What is the role of Flask-SQLAlchemy ?\n",
        "Ans. Flask-SQLAlchemy is an extension for Flask that adds SQLAlchemy support to Flask applications. It simplifies the process of working with databases by allowing you to use SQLAlchemy, a popular Object Relational Mapper (ORM), within your Flask app."
      ],
      "metadata": {
        "id": "-srW3Lyvu_zR"
      }
    },
    {
      "cell_type": "markdown",
      "source": [
        "12. What are Flask blueprints, and how are they useful ?\n",
        "Ans. Flask Blueprints are a powerful way to structure your Flask application by organizing it into modular components. They make it easier to:\n",
        "\n",
        "Manage larger applications.\n",
        "\n",
        "Reuse parts of your app.\n",
        "\n",
        "Keep your codebase clean and maintainable."
      ],
      "metadata": {
        "id": "RNTH9LkYvL8x"
      }
    },
    {
      "cell_type": "markdown",
      "source": [
        "13. What is the purpose of Flask's request object ?\n",
        "Ans. The request object in Flask is used to access data sent by the client (e.g., a web browser or an API client) to the server during an HTTP request. It provides all the information about the current request, such as form data, query parameters, headers, cookies, and more."
      ],
      "metadata": {
        "id": "JVVkbBXYvhAh"
      }
    },
    {
      "cell_type": "markdown",
      "source": [
        "14. How do you create a RESTful API endpoint using Flask ?\n",
        "Ans. Creating a RESTful API endpoint using Flask involves defining routes that handle HTTP requests (GET, POST, PUT, DELETE, etc.), process data, and return responses in a structured format like JSON"
      ],
      "metadata": {
        "id": "skjVGztiv5O5"
      }
    },
    {
      "cell_type": "markdown",
      "source": [
        "15. What is the purpose of Flask's jsonify() function ?\n",
        "Ans. The jsonify() function in Flask is used to convert Python data structures (such as dictionaries, lists, tuples, etc.) into JSON format and return them as HTTP responses. It ensures that the response is properly formatted as JSON and sets the correct Content-Type (application/json) in the HTTP response headers."
      ],
      "metadata": {
        "id": "dV1m-I9VwIkB"
      }
    },
    {
      "cell_type": "markdown",
      "source": [
        "16.  Explain Flask’s url_for() function.\n",
        "Ans. url_for() generates URLs based on the view function names, making it easier to manage URLs dynamically. It helps avoid hardcoding URLs, making your application more maintainable. You can pass dynamic parameters like IDs or slugs, and Flask will generate the correct URL. It's commonly used in templates to link between pages, ensuring that the URL is always generated correctly."
      ],
      "metadata": {
        "id": "snn214h7wSU5"
      }
    },
    {
      "cell_type": "markdown",
      "source": [
        "17.  How does Flask handle static files (CSS, JavaScript, etc.)?\n",
        "Ans. Flask has a built-in mechanism for serving static files (such as CSS, JavaScript, images, and other assets) using the /static route. Flask automatically serves static files from a folder named static in the root of your application. This makes it easy to organize and access assets like stylesheets, scripts, and images."
      ],
      "metadata": {
        "id": "DYNBoHW2wlZQ"
      }
    },
    {
      "cell_type": "markdown",
      "source": [
        "18. What is an API specification, and how does it help in building a Flask API ?\n",
        "Ans. An API specification is a document or description that defines how an API (Application Programming Interface) should behave. It outlines the structure of requests and responses, the available endpoints (URLs), the expected parameters, and the format of the data exchanged (typically in JSON or XML).\n",
        "\n",
        "The specification acts as a blueprint or contract for the API, helping both the client and server understand how to interact with each other. It ensures consistency in how the API is designed and used."
      ],
      "metadata": {
        "id": "geOu2hOlw-dh"
      }
    },
    {
      "cell_type": "markdown",
      "source": [
        "19. What are HTTP status codes, and why are they important in a Flask API ?\n",
        "Ans. HTTP status codes are essential for communicating the result of an API request. They help clients handle requests appropriately and provide meaningful responses to users. In Flask APIs, status codes help ensure proper error handling, enhance debugging, and enable clear communication between client and server."
      ],
      "metadata": {
        "id": "ToFRDFmWxVYg"
      }
    },
    {
      "cell_type": "markdown",
      "source": [
        "20. How do you handle POST requests in Flask ?\n",
        "Ans. After processing the request data, use jsonify() to send a JSON response, and include an appropriate HTTP status code like 201 Created, 200 OK, or 400 Bad Request."
      ],
      "metadata": {
        "id": "PIFPWJ1tyU1o"
      }
    },
    {
      "cell_type": "markdown",
      "source": [
        "21. How would you secure a Flask API ?\n",
        "Ans. Use HTTPS: Encrypt data in transit.\n",
        "Authentication and Authorization: Implement JWT, OAuth, or session-based authentication.\n",
        "Input Validation: Sanitize and validate all user inputs to prevent attacks like SQL Injection and XSS.\n",
        "Rate Limiting: Protect against DDoS attacks by limiting requests.\n",
        "CORS: Restrict access to your API from specific domains.\n",
        "Logging: Log API usage and monitor for suspicious activity.\n",
        "CSRF Protection: Use tools like Flask-WTF to protect against CSRF.\n",
        "Database Security: Use secure queries and hash passwords."
      ],
      "metadata": {
        "id": "71sZ6NFBysU4"
      }
    },
    {
      "cell_type": "markdown",
      "source": [
        "22. What is the significance of the Flask-RESTful extension ?\n",
        "Ans. Flask-RESTful is significant because it streamlines the process of building RESTful APIs in Flask. It introduces abstractions that make it easier to manage HTTP methods, input parsing, response formatting, and error handling. It also allows for clean, modular, and scalable API design. Whether we are building small APIs or complex systems, Flask-RESTful provides a well-structured and efficient way to handle API endpoints, making it a popular choice among Flask developers."
      ],
      "metadata": {
        "id": "AlUohIc-zIcA"
      }
    },
    {
      "cell_type": "markdown",
      "source": [
        "23. What is the role of Flask’s session object ?\n",
        "Ans. Flasks session object plays a crucial role in maintaining user-specific data between requests in a web application. Its a simple and effective way to store data like authentication status or user preferences, and it handles security by signing session cookies to prevent tampering. However, always be mindful of what data you store in sessions to avoid security issues."
      ],
      "metadata": {
        "id": "8bNcp6eTzd85"
      }
    },
    {
      "cell_type": "markdown",
      "source": [
        "# Practical Questions"
      ],
      "metadata": {
        "id": "stGrO6D2zus5"
      }
    },
    {
      "cell_type": "markdown",
      "source": [
        "1.  How do you create a basic Flask application ?"
      ],
      "metadata": {
        "id": "EvZXq5wBz3DY"
      }
    },
    {
      "cell_type": "code",
      "source": [
        "!pip install Flask\n",
        "from flask import Flask\n",
        "\n",
        "app = Flask(__name__)\n",
        "\n",
        "@app.route('/')\n",
        "def hello_world():\n",
        "    return 'Hello, World!'\n",
        "\n",
        "if __name__ == '__main__':\n",
        "    app.run(debug=True)\n"
      ],
      "metadata": {
        "colab": {
          "base_uri": "https://localhost:8080/"
        },
        "id": "mMMOnFIyz0X4",
        "outputId": "7ebd669d-7bb1-4f7d-9d7f-b718a92906de"
      },
      "execution_count": null,
      "outputs": [
        {
          "output_type": "stream",
          "name": "stdout",
          "text": [
            "Requirement already satisfied: Flask in /usr/local/lib/python3.11/dist-packages (3.1.1)\n",
            "Requirement already satisfied: blinker>=1.9.0 in /usr/local/lib/python3.11/dist-packages (from Flask) (1.9.0)\n",
            "Requirement already satisfied: click>=8.1.3 in /usr/local/lib/python3.11/dist-packages (from Flask) (8.2.1)\n",
            "Requirement already satisfied: itsdangerous>=2.2.0 in /usr/local/lib/python3.11/dist-packages (from Flask) (2.2.0)\n",
            "Requirement already satisfied: jinja2>=3.1.2 in /usr/local/lib/python3.11/dist-packages (from Flask) (3.1.6)\n",
            "Requirement already satisfied: markupsafe>=2.1.1 in /usr/local/lib/python3.11/dist-packages (from Flask) (3.0.2)\n",
            "Requirement already satisfied: werkzeug>=3.1.0 in /usr/local/lib/python3.11/dist-packages (from Flask) (3.1.3)\n",
            " * Serving Flask app '__main__'\n",
            " * Debug mode: on\n"
          ]
        },
        {
          "output_type": "stream",
          "name": "stderr",
          "text": [
            "INFO:werkzeug:\u001b[31m\u001b[1mWARNING: This is a development server. Do not use it in a production deployment. Use a production WSGI server instead.\u001b[0m\n",
            " * Running on http://127.0.0.1:5000\n",
            "INFO:werkzeug:\u001b[33mPress CTRL+C to quit\u001b[0m\n",
            "INFO:werkzeug: * Restarting with stat\n"
          ]
        }
      ]
    },
    {
      "cell_type": "markdown",
      "source": [
        "2.  How do you serve static files like images or CSS in Flask ?"
      ],
      "metadata": {
        "id": "SOcoYWtY0c7A"
      }
    },
    {
      "cell_type": "code",
      "source": [
        "from flask import Flask, render_template\n",
        "\n",
        "app = Flask(__name__)\n",
        "\n",
        "@app.route('/')\n",
        "def home():\n",
        "    return render_template('index.html')\n",
        "\n",
        "if __name__ == '__main__':\n",
        "    app.run(debug=True)\n",
        "\n",
        "#Index.html file\n",
        "\n",
        "<!DOCTYPE html>\n",
        "<html>\n",
        "<head>\n",
        "    <title>My Site</title>\n",
        "    <link rel=\"stylesheet\" type=\"text/css\" href=\"{{ url_for('static', filename='css/style.css') }}\">\n",
        "</head>\n",
        "<body>\n",
        "    <img src=\"{{ url_for('static', filename='images/logo.png') }}\" alt=\"Logo\">\n",
        "    <h1>Welcome to My Site</h1>\n",
        "</body>\n",
        "</html>\n"
      ],
      "metadata": {
        "id": "G6Y3RBwK0gvK",
        "colab": {
          "base_uri": "https://localhost:8080/"
        },
        "outputId": "4baf980b-69c2-4578-da47-d48f875f0fc2"
      },
      "execution_count": 2,
      "outputs": [
        {
          "output_type": "stream",
          "name": "stdout",
          "text": [
            " * Serving Flask app '__main__'\n",
            " * Debug mode: on\n"
          ]
        },
        {
          "output_type": "stream",
          "name": "stderr",
          "text": [
            "INFO:werkzeug:\u001b[31m\u001b[1mWARNING: This is a development server. Do not use it in a production deployment. Use a production WSGI server instead.\u001b[0m\n",
            " * Running on http://127.0.0.1:5000\n",
            "INFO:werkzeug:\u001b[33mPress CTRL+C to quit\u001b[0m\n",
            "INFO:werkzeug: * Restarting with stat\n"
          ]
        }
      ]
    },
    {
      "cell_type": "markdown",
      "source": [
        "3. How do you define different routes with different HTTP methods in Flask ?"
      ],
      "metadata": {
        "id": "xvEnTN1U_oFm"
      }
    },
    {
      "cell_type": "code",
      "source": [
        "from flask import Flask, request\n",
        "\n",
        "app = Flask(__name__)\n",
        "\n",
        "@app.route('/submit', methods=['GET', 'POST'])\n",
        "def submit():\n",
        "    if request.method == 'POST':\n",
        "        return \"Form submitted using POST!\"\n",
        "    else:\n",
        "        return \"Form page accessed with GET.\"\n",
        "\n",
        "if __name__ == '__main__':\n",
        "    app.run(debug=True)"
      ],
      "metadata": {
        "colab": {
          "base_uri": "https://localhost:8080/"
        },
        "id": "V9tc2fe__rmV",
        "outputId": "c0541f8e-f55e-4fec-c198-09296196a750"
      },
      "execution_count": 3,
      "outputs": [
        {
          "output_type": "stream",
          "name": "stdout",
          "text": [
            " * Serving Flask app '__main__'\n",
            " * Debug mode: on\n"
          ]
        },
        {
          "output_type": "stream",
          "name": "stderr",
          "text": [
            "INFO:werkzeug:\u001b[31m\u001b[1mWARNING: This is a development server. Do not use it in a production deployment. Use a production WSGI server instead.\u001b[0m\n",
            " * Running on http://127.0.0.1:5000\n",
            "INFO:werkzeug:\u001b[33mPress CTRL+C to quit\u001b[0m\n",
            "INFO:werkzeug: * Restarting with stat\n"
          ]
        }
      ]
    },
    {
      "cell_type": "markdown",
      "source": [
        "4. How do you render HTML templates in Flask ?\n"
      ],
      "metadata": {
        "id": "mUtbLBv9ABw2"
      }
    },
    {
      "cell_type": "code",
      "source": [
        "from flask import Flask, render_template\n",
        "\n",
        "app = Flask(__name__)\n",
        "\n",
        "@app.route('/')\n",
        "def home():\n",
        "    return render_template('index.html', title='Home Page', name='Alice')\n",
        "\n",
        "@app.route('/about')\n",
        "def about():\n",
        "    return render_template('about.html')\n",
        "\n",
        "if __name__ == '__main__':\n",
        "    app.run(debug=True)\n",
        "\n",
        "\n",
        "#index.html file\n",
        "\n",
        "<!DOCTYPE html>\n",
        "<html>\n",
        "<head>\n",
        "    <title>{{ title }}</title>\n",
        "</head>\n",
        "<body>\n",
        "    <h1>Welcome, {{ name }}!</h1>\n",
        "</body>\n",
        "</html>\n"
      ],
      "metadata": {
        "colab": {
          "base_uri": "https://localhost:8080/"
        },
        "id": "9_QreBBEAGbc",
        "outputId": "0bebe577-e044-4ddd-d50c-066c65272500"
      },
      "execution_count": 4,
      "outputs": [
        {
          "output_type": "stream",
          "name": "stdout",
          "text": [
            " * Serving Flask app '__main__'\n",
            " * Debug mode: on\n"
          ]
        },
        {
          "output_type": "stream",
          "name": "stderr",
          "text": [
            "INFO:werkzeug:\u001b[31m\u001b[1mWARNING: This is a development server. Do not use it in a production deployment. Use a production WSGI server instead.\u001b[0m\n",
            " * Running on http://127.0.0.1:5000\n",
            "INFO:werkzeug:\u001b[33mPress CTRL+C to quit\u001b[0m\n",
            "INFO:werkzeug: * Restarting with stat\n"
          ]
        }
      ]
    },
    {
      "cell_type": "markdown",
      "source": [
        "5. How can you generate URLs for routes in Flask using url_for ?"
      ],
      "metadata": {
        "id": "cXtaeYx7ASmE"
      }
    },
    {
      "cell_type": "code",
      "source": [
        "#app.py\n",
        "\n",
        "from flask import Flask, render_template, url_for\n",
        "\n",
        "app = Flask(__name__)\n",
        "\n",
        "@app.route('/')\n",
        "def home():\n",
        "    return render_template('index.html')\n",
        "\n",
        "@app.route('/about')\n",
        "def about():\n",
        "    return render_template('about.html')\n",
        "\n",
        "@app.route('/user/<username>')\n",
        "def profile(username):\n",
        "    return render_template('profile.html', username=username)\n",
        "\n",
        "if __name__ == '__main__':\n",
        "    app.run(debug=True)\n",
        "\n",
        "\n",
        "#templates/index.html\n",
        "\n",
        "<!DOCTYPE html>\n",
        "<html>\n",
        "<head>\n",
        "    <title>Home</title>\n",
        "</head>\n",
        "<body>\n",
        "    <h1>Welcome to the Home Page</h1>\n",
        "    <ul>\n",
        "        <li><a href=\"{{ url_for('about') }}\">About</a></li>\n",
        "        <li><a href=\"{{ url_for('profile', username='alice') }}\">A's Profile</a></li>\n",
        "        <li><a href=\"{{ url_for('profile', username='bob') }}\">B's Profile</a></li>\n",
        "    </ul>\n",
        "</body>\n",
        "</html>\n",
        "\n",
        "\n",
        "#templates/about.html\n",
        "\n",
        "<!DOCTYPE html>\n",
        "<html>\n",
        "<head>\n",
        "    <title>About</title>\n",
        "</head>\n",
        "<body>\n",
        "    <h1>About Page</h1>\n",
        "    <a href=\"{{ url_for('home') }}\">Back to Home</a>\n",
        "</body>\n",
        "</html>\n",
        "\n",
        "\n",
        "#templates/profile.html\n",
        "\n",
        "<!DOCTYPE html>\n",
        "<html>\n",
        "<head>\n",
        "    <title>Profile</title>\n",
        "</head>\n",
        "<body>\n",
        "    <h1>Hello, {{ username }}!</h1>\n",
        "    <a href=\"{{ url_for('home') }}\">Back to Home</a>\n",
        "</body>\n",
        "</html>\n"
      ],
      "metadata": {
        "id": "zmJNep8BAWaF"
      },
      "execution_count": null,
      "outputs": []
    },
    {
      "cell_type": "markdown",
      "source": [
        "6.  How do you handle forms in Flask ?"
      ],
      "metadata": {
        "id": "RqRlBXUEA8m8"
      }
    },
    {
      "cell_type": "code",
      "source": [
        "from flask import Flask, render_template, request\n",
        "\n",
        "app = Flask(__name__)\n",
        "\n",
        "@app.route('/')\n",
        "def form():\n",
        "    return render_template('form.html')\n",
        "\n",
        "@app.route('/submit', methods=['POST'])\n",
        "def submit():\n",
        "    name = request.form.get('name')\n",
        "    email = request.form.get('email')\n",
        "    return render_template('result.html', name=name, email=email)\n",
        "\n",
        "if __name__ == '__main__':\n",
        "    app.run(debug=True)\n",
        "\n",
        "\n",
        "#templates/form.html\n",
        "\n",
        "<!DOCTYPE html>\n",
        "<html>\n",
        "<head>\n",
        "    <title>Form Example</title>\n",
        "</head>\n",
        "<body>\n",
        "    <h1>Enter Your Info</h1>\n",
        "    <form method=\"POST\" action=\"{{ url_for('submit') }}\">\n",
        "        <label>Name:</label>\n",
        "        <input type=\"text\" name=\"name\" required><br><br>\n",
        "\n",
        "        <label>Email:</label>\n",
        "        <input type=\"email\" name=\"email\" required><br><br>\n",
        "\n",
        "        <button type=\"submit\">Submit</button>\n",
        "    </form>\n",
        "</body>\n",
        "</html>\n",
        "\n",
        "\n",
        "#templates/result.html\n",
        "\n",
        "<!DOCTYPE html>\n",
        "<html>\n",
        "<head>\n",
        "    <title>Form Result</title>\n",
        "</head>\n",
        "<body>\n",
        "    <h1>Form Submitted</h1>\n",
        "    <p><strong>Name:</strong> {{ name }}</p>\n",
        "    <p><strong>Email:</strong> {{ email }}</p>\n",
        "    <a href=\"{{ url_for('form') }}\">Back</a>\n",
        "</body>\n",
        "</html>\n"
      ],
      "metadata": {
        "id": "VHDAqZZgBCFj"
      },
      "execution_count": null,
      "outputs": []
    },
    {
      "cell_type": "markdown",
      "source": [
        "7. How can you validate form data in Flask ?"
      ],
      "metadata": {
        "id": "ESK_h6ieBX8b"
      }
    },
    {
      "cell_type": "code",
      "source": [
        "from flask import Flask, render_template, request, flash, redirect, url_for\n",
        "\n",
        "app = Flask(__name__)\n",
        "app.secret_key = 'secret123'  # Needed for flashing messages\n",
        "\n",
        "@app.route('/', methods=['GET', 'POST'])\n",
        "def form():\n",
        "    if request.method == 'POST':\n",
        "        name = request.form.get('name')\n",
        "        email = request.form.get('email')\n",
        "\n",
        "        if not name or not email:\n",
        "            flash('All fields are required!')\n",
        "            return redirect(url_for('form'))\n",
        "\n",
        "        # You could add more custom validation here\n",
        "        if '@' not in email:\n",
        "            flash('Invalid email address!')\n",
        "            return redirect(url_for('form'))\n",
        "\n",
        "        return f\"Submitted: {name}, {email}\"\n",
        "\n",
        "    return render_template('form.html')\n",
        "\n",
        "\n",
        "#html code\n",
        "<!DOCTYPE html>\n",
        "<html>\n",
        "<head>\n",
        "    <title>Simple Form</title>\n",
        "</head>\n",
        "<body>\n",
        "    {% with messages = get_flashed_messages() %}\n",
        "      {% if messages %}\n",
        "        <ul>\n",
        "          {% for msg in messages %}\n",
        "            <li style=\"color: red;\">{{ msg }}</li>\n",
        "          {% endfor %}\n",
        "        </ul>\n",
        "      {% endif %}\n",
        "    {% endwith %}\n",
        "\n",
        "    <form method=\"POST\">\n",
        "        Name: <input type=\"text\" name=\"name\"><br><br>\n",
        "        Email: <input type=\"text\" name=\"email\"><br><br>\n",
        "        <button type=\"submit\">Submit</button>\n",
        "    </form>\n",
        "</body>\n",
        "</html>"
      ],
      "metadata": {
        "id": "0QvMcs7fBdOD"
      },
      "execution_count": null,
      "outputs": []
    },
    {
      "cell_type": "markdown",
      "source": [
        "8.  How do you manage sessions in Flask ?"
      ],
      "metadata": {
        "id": "TIDw8cfCB9ed"
      }
    },
    {
      "cell_type": "code",
      "source": [
        "from flask import Flask, session, redirect, url_for, request, render_template\n",
        "\n",
        "app = Flask(__name__)\n",
        "app.secret_key = 'your_secret_key'  # Needed to sign session cookies securely\n",
        "\n",
        "@app.route('/')\n",
        "def index():\n",
        "    if 'username' in session:\n",
        "        return f'Logged in as {session[\"username\"]} <br><a href=\"/logout\">Logout</a>'\n",
        "    return 'You are not logged in <br><a href=\"/login\">Login</a>'\n",
        "\n",
        "@app.route('/login', methods=['GET', 'POST'])\n",
        "def login():\n",
        "    if request.method == 'POST':\n",
        "        session['username'] = request.form['username']\n",
        "        return redirect(url_for('index'))\n",
        "    return '''\n",
        "        <form method=\"POST\">\n",
        "            <p><input type=text name=username>\n",
        "            <p><input type=submit value=Login>\n",
        "        </form>\n",
        "    '''\n",
        "\n",
        "@app.route('/logout')\n",
        "def logout():\n",
        "    session.pop('username', None)\n",
        "    return redirect(url_for('index'))\n",
        "\n",
        "if __name__ == '__main__':\n",
        "    app.run(debug=True)\n"
      ],
      "metadata": {
        "id": "-Y6HthPNCA17"
      },
      "execution_count": null,
      "outputs": []
    },
    {
      "cell_type": "markdown",
      "source": [
        "9. How do you redirect to a different route in Flask ?"
      ],
      "metadata": {
        "id": "JgvO6pLvCWGb"
      }
    },
    {
      "cell_type": "code",
      "source": [
        "from flask import Flask, redirect, url_for, request\n",
        "\n",
        "app = Flask(__name__)\n",
        "\n",
        "@app.route('/')\n",
        "def home():\n",
        "    return 'Home Page <br><a href=\"/login\">Login</a>'\n",
        "\n",
        "@app.route('/login')\n",
        "def login():\n",
        "    # Simulate login process, then redirect to user profile\n",
        "    username = request.args.get('username', 'guest')\n",
        "    return redirect(url_for('profile', username=username))\n",
        "\n",
        "@app.route('/user/<username>')\n",
        "def profile(username):\n",
        "    return f'Welcome, {username}! <br><a href=\"/\">Home</a>'\n",
        "\n",
        "if __name__ == '__main__':\n",
        "    app.run(debug=True)\n"
      ],
      "metadata": {
        "id": "rz3GEAmiCb6s"
      },
      "execution_count": null,
      "outputs": []
    },
    {
      "cell_type": "markdown",
      "source": [
        "10.  How do you handle errors in Flask (e.g., 404) ?"
      ],
      "metadata": {
        "id": "nCY1E13QCoCT"
      }
    },
    {
      "cell_type": "code",
      "source": [
        "from flask import Flask, render_template\n",
        "\n",
        "app = Flask(__name__)\n",
        "\n",
        "\n",
        "@app.errorhandler(404)\n",
        "def page_not_found(error):\n",
        "    return render_template('404.html'), 404\n",
        "\n",
        "@app.errorhandler(500)\n",
        "def internal_error(error):\n",
        "    return render_template('500.html'), 500\n",
        "\n",
        "@app.route('/cause-404')\n",
        "def cause_404():\n",
        "    abort(404)\n",
        "\n",
        "@app.route('/')\n",
        "def home():\n",
        "    return 'Welcome to the Home Page!'\n",
        "\n",
        "if __name__ == '__main__':\n",
        "    app.run(debug=True)\n",
        "\n",
        "\n",
        "#templates/404.html (Custom 404 Page)\n",
        "\n",
        "<!DOCTYPE html>\n",
        "<html>\n",
        "<head>\n",
        "    <title>404 Not Found</title>\n",
        "</head>\n",
        "<body>\n",
        "    <h1>Oops! Page not found.</h1>\n",
        "    <p>The page you're looking for doesn't exist.</p>\n",
        "</body>\n",
        "</html>\n",
        "\n",
        "\n",
        "#templates/500.html (Custom 500 Page)\n",
        "\n",
        "<!DOCTYPE html>\n",
        "<html>\n",
        "<head>\n",
        "    <title>500 Internal Server Error</title>\n",
        "</head>\n",
        "<body>\n",
        "    <h1>Oops! Something went wrong.</h1>\n",
        "    <p>We're experiencing some technical difficulties. Please try again later.</p>\n",
        "</body>\n",
        "</html>"
      ],
      "metadata": {
        "id": "SWaVeExXCs2r"
      },
      "execution_count": null,
      "outputs": []
    },
    {
      "cell_type": "markdown",
      "source": [
        "11. How do you structure a Flask app using Blueprints ?"
      ],
      "metadata": {
        "id": "6SG9sp_dDENc"
      }
    },
    {
      "cell_type": "code",
      "source": [
        "from flask import Flask, Blueprint, render_template\n",
        "\n",
        "\n",
        "app = Flask(__name__)\n",
        "\n",
        "\n",
        "auth = Blueprint('auth', __name__, template_folder='templates')\n",
        "\n",
        "@auth.route('/login')\n",
        "def login():\n",
        "    return render_template('login.html')\n",
        "\n",
        "@auth.route('/logout')\n",
        "def logout():\n",
        "    return \"Logout Successful\"\n",
        "\n",
        "\n",
        "user = Blueprint('user', __name__, template_folder='templates')\n",
        "\n",
        "@user.route('/profile')\n",
        "def profile():\n",
        "    return render_template('profile.html')\n",
        "\n",
        "\n",
        "app.register_blueprint(auth, url_prefix='/auth')\n",
        "app.register_blueprint(user, url_prefix='/user')\n",
        "\n",
        "\n",
        "@app.route('/')\n",
        "def home():\n",
        "    return render_template('home.html')\n",
        "\n",
        "\n",
        "if __name__ == '__main__':\n",
        "    app.run(debug=True)\n",
        "\n",
        "#templates/home.html\n",
        "\n",
        "<!DOCTYPE html>\n",
        "<html>\n",
        "<head>\n",
        "    <title>Home</title>\n",
        "</head>\n",
        "<body>\n",
        "    <h1>Welcome to the Home Page</h1>\n",
        "    <a href=\"/auth/login\">Login</a> | <a href=\"/user/profile\">User Profile</a>\n",
        "</body>\n",
        "</html>\n",
        "\n",
        "\n",
        "#templates/login.html\n",
        "\n",
        "<!DOCTYPE html>\n",
        "<html>\n",
        "<head>\n",
        "    <title>Login</title>\n",
        "</head>\n",
        "<body>\n",
        "    <h1>Login Page</h1>\n",
        "    <form>\n",
        "        <!-- Login form -->\n",
        "    </form>\n",
        "</body>\n",
        "</html>\n",
        "\n",
        "\n",
        "#templates/profile.html\n",
        "\n",
        "<!DOCTYPE html>\n",
        "<html>\n",
        "<head>\n",
        "    <title>User Profile</title>\n",
        "</head>\n",
        "<body>\n",
        "    <h1>User Profile</h1>\n",
        "    <p>Welcome, User!</p>\n",
        "</body>\n",
        "</html>"
      ],
      "metadata": {
        "id": "qnuyYzvADICD"
      },
      "execution_count": null,
      "outputs": []
    },
    {
      "cell_type": "markdown",
      "source": [
        "12. How do you define a custom Jinja filter in Flask ?"
      ],
      "metadata": {
        "id": "tbV9cOuADmTr"
      }
    },
    {
      "cell_type": "code",
      "source": [
        "from flask import Flask, render_template\n",
        "\n",
        "app = Flask(__name__)\n",
        "\n",
        "# Define a custom filter to convert text to title case\n",
        "def to_title_case(s):\n",
        "    if isinstance(s, str):\n",
        "        return s.title()\n",
        "    return s\n",
        "\n",
        "# Register the custom filter with Jinja\n",
        "app.jinja_env.filters['title_case'] = to_title_case\n",
        "\n",
        "@app.route('/')\n",
        "def home():\n",
        "    text = \"hello flask world\"\n",
        "    return render_template('index.html', text=text)\n",
        "\n",
        "if __name__ == '__main__':\n",
        "    app.run(debug=True)\n",
        "\n",
        "\n",
        "#html file\n",
        "\n",
        "<!DOCTYPE html>\n",
        "<html>\n",
        "<head>\n",
        "    <title>Custom Jinja Filter Example</title>\n",
        "</head>\n",
        "<body>\n",
        "    <h1>Original Text:</h1>\n",
        "    <p>{{ text }}</p>\n",
        "\n",
        "    <h1>Text in Title Case:</h1>\n",
        "    <p>{{ text | title_case }}</p>  <!-- Using the custom filter here -->\n",
        "</body>\n",
        "</html>\n"
      ],
      "metadata": {
        "id": "depItDMsDqqr"
      },
      "execution_count": null,
      "outputs": []
    },
    {
      "cell_type": "markdown",
      "source": [
        "13.  How can you redirect with query parameters in Flask ?"
      ],
      "metadata": {
        "id": "fhONNGKhD2KD"
      }
    },
    {
      "cell_type": "code",
      "source": [
        "from flask import Flask, redirect, url_for, request\n",
        "\n",
        "app = Flask(__name__)\n",
        "\n",
        "@app.route('/')\n",
        "def home():\n",
        "    return '<h1>Home Page</h1><a href=\"/redirect-to-profile?user=alice\">Go to Profile</a>'\n",
        "\n",
        "@app.route('/redirect-to-profile')\n",
        "def redirect_to_profile():\n",
        "    user = request.args.get('user')\n",
        "    return redirect(url_for('profile', username=user))\n",
        "\n",
        "@app.route('/profile')\n",
        "def profile():\n",
        "    username = request.args.get('username')\n",
        "    return f'<h1>User Profile for {username}</h1>'\n",
        "\n",
        "if __name__ == '__main__':\n",
        "    app.run(debug=True)\n"
      ],
      "metadata": {
        "id": "ZE60idWJD6iK"
      },
      "execution_count": null,
      "outputs": []
    },
    {
      "cell_type": "markdown",
      "source": [
        "14. How do you return JSON responses in Flask ?"
      ],
      "metadata": {
        "id": "CC44TqtrEBi6"
      }
    },
    {
      "cell_type": "code",
      "source": [
        "from flask import Flask, jsonify, request, Response, json\n",
        "\n",
        "app = Flask(__name__)\n",
        "\n",
        "@app.route('/json')\n",
        "def json_example():\n",
        "    data = {\n",
        "        \"name\": \"Alice\",\n",
        "        \"age\": 30,\n",
        "        \"city\": \"Wonderland\"\n",
        "    }\n",
        "    return jsonify(data)\n",
        "\n",
        "@app.route('/add', methods=['POST'])\n",
        "def add_data():\n",
        "    data = request.get_json()\n",
        "    result = data.get('a') + data.get('b')\n",
        "    return jsonify({\"result\": result})\n",
        "\n",
        "\n",
        "@app.route('/manual-json')\n",
        "def manual_json_example():\n",
        "    data = {\n",
        "        \"name\": \"Bob\",\n",
        "        \"age\": 25,\n",
        "        \"city\": \"Builderland\"\n",
        "    }\n",
        "    json_data = json.dumps(data)\n",
        "    return Response(json_data, mimetype='application/json')\n",
        "\n",
        "\n",
        "@app.route('/')\n",
        "def home():\n",
        "    return '<h1>Welcome! Use /json or /manual-json for JSON responses.</h1>'\n",
        "\n",
        "if __name__ == '__main__':\n",
        "    app.run(debug=True)\n"
      ],
      "metadata": {
        "id": "fzsyRsqrEFhi"
      },
      "execution_count": null,
      "outputs": []
    },
    {
      "cell_type": "markdown",
      "source": [
        "15. How do you capture URL parameters in Flask ?"
      ],
      "metadata": {
        "id": "Z82pc0EvEbwK"
      }
    },
    {
      "cell_type": "code",
      "source": [
        "from flask import Flask, request\n",
        "\n",
        "app = Flask(__name__)\n",
        "\n",
        "\n",
        "@app.route('/user/<username>')\n",
        "def show_user(username):\n",
        "    return f\"Hello, {username}!\"\n",
        "\n",
        "@app.route('/post/<int:post_id>/comment/<int:comment_id>')\n",
        "def show_comment(post_id, comment_id):\n",
        "    return f\"Post ID: {post_id}, Comment ID: {comment_id}\"\n",
        "\n",
        "@app.route('/search')\n",
        "def search():\n",
        "    query = request.args.get('query')\n",
        "    page = request.args.get('page', 1)\n",
        "    return f\"Search Query: {query}, Page: {page}\"\n",
        "\n",
        "\n",
        "@app.route('/post/<int:post_id>')\n",
        "def show_post(post_id):\n",
        "    return f\"Post ID: {post_id}\"\n",
        "\n",
        "@app.route('/item/<float:item_price>')\n",
        "def show_item_price(item_price):\n",
        "    return f\"Item Price: ${item_price}\"\n",
        "\n",
        "if __name__ == '__main__':\n",
        "    app.run(debug=True)\n"
      ],
      "metadata": {
        "id": "w8-WmyIvEeXS"
      },
      "execution_count": null,
      "outputs": []
    }
  ]
}