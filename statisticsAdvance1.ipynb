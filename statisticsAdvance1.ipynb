{
  "nbformat": 4,
  "nbformat_minor": 0,
  "metadata": {
    "colab": {
      "provenance": []
    },
    "kernelspec": {
      "name": "python3",
      "display_name": "Python 3"
    },
    "language_info": {
      "name": "python"
    }
  },
  "cells": [
    {
      "cell_type": "markdown",
      "source": [
        "1. What is a random variable in probability theory?\n",
        "Ans. A random variable in probability theory is a function that assigns a numerical value to each outcome of a random experiment. It essentially quantifies outcomes of random processes, allowing us to analyze and work with uncertain events mathematically."
      ],
      "metadata": {
        "id": "iNIi2xCw7ltt"
      }
    },
    {
      "cell_type": "markdown",
      "source": [
        "2. What are the types of random variables?\n",
        "Ans. There are two main types of random variables:\n",
        "\n",
        "Discrete Random Variables\n",
        "\n",
        "Take on a countable set of distinct values (e.g., 0, 1, 2, ...).\n",
        "\n",
        "Examples: Number of heads in 10 coin tosses, number of customers arriving in an hour.\n",
        "\n",
        "Their probabilities are described by a Probability Mass Function (PMF).\n",
        "\n",
        "Continuous Random Variables\n",
        "\n",
        "Take on values from an uncountable range, typically an interval or collection of intervals on the real line.\n",
        "\n",
        "Examples: Height, weight, temperature, time taken to complete a task.\n",
        "\n",
        "Their probabilities are described by a Probability Density Function (PDF)."
      ],
      "metadata": {
        "id": "MoYti8EW7x61"
      }
    },
    {
      "cell_type": "markdown",
      "source": [
        "3. Explain the difference between discrete and continuous distributions.\n",
        "Ans. Discrete Distributions\n",
        "\n",
        "Values: Take on specific, countable values (like integers).\n",
        "\n",
        "Probability: Assigned to exact values via a Probability Mass Function (PMF).\n",
        "\n",
        "Sum of probabilities: The probabilities for all possible values add up to 1.\n",
        "\n",
        "Example: Number of dice rolls resulting in a 6, number of emails received per hour.\n",
        "\n",
        "Continuous Distributions\n",
        "\n",
        "Values: Take on any value within an interval or range (uncountably infinite possible values).\n",
        "\n",
        "Probability: Assigned over intervals via a Probability Density Function (PDF); probability of any single exact value is 0.\n",
        "\n",
        "Area under curve: The total area under the PDF over the range equals 1.\n",
        "\n",
        "Example: Height of people, time to run a race."
      ],
      "metadata": {
        "id": "BuVvFHeg75lE"
      }
    },
    {
      "cell_type": "markdown",
      "source": [
        "4. What is a binomial distribution, and how is it used in probability?\n",
        "Ans. The binomial distribution models the number of successes in a fixed number of independent trials of a Bernoulli experiment (an experiment with two possible outcomes: success or failure).\n",
        "\n",
        "Examples:\n",
        "\n",
        "Number of heads in 10 coin tosses.\n",
        "\n",
        "Number of defective items in a batch of 100.\n",
        "\n",
        "Number of customers who buy a product out of a group of visitors."
      ],
      "metadata": {
        "id": "5XUSQqsR8CU8"
      }
    },
    {
      "cell_type": "markdown",
      "source": [
        "5. What is the standard normal distribution, and why is it important?\n",
        "Ans. the standard normal distribution is a fundamental tool that simplifies analysis and helps interpret and compute probabilities for normally distributed data."
      ],
      "metadata": {
        "id": "12K0tqXA8X08"
      }
    }
  ]
}