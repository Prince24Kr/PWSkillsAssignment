{
  "nbformat": 4,
  "nbformat_minor": 0,
  "metadata": {
    "colab": {
      "provenance": []
    },
    "kernelspec": {
      "name": "python3",
      "display_name": "Python 3"
    },
    "language_info": {
      "name": "python"
    }
  },
  "cells": [
    {
      "cell_type": "markdown",
      "source": [
        "1. What are data structures, and why are they important ?\n",
        "\n",
        "Ans. Data structures are ways to organize and store data in a computer so that it can be used efficiently. They help us manage large amounts of data and make it easier to perform tasks like searching, sorting, and updating data."
      ],
      "metadata": {
        "id": "OgmNHPSCkVws"
      }
    },
    {
      "cell_type": "markdown",
      "source": [
        "2. Explain the difference between mutable and immutable data types with examples\n",
        "\n",
        "Ans. Mutable data types can be changed after they are created. Example: list, dictionary, set.\n",
        "\n",
        "Immutable data types cannot be changed after they are created. Example: string, tuple, int."
      ],
      "metadata": {
        "id": "8ZLZyAbkmE1U"
      }
    },
    {
      "cell_type": "code",
      "source": [
        "# Mutable\n",
        "my_list = [1, 2, 3]\n",
        "my_list[0] = 10\n",
        "\n",
        "# Immutable\n",
        "my_string = \"hello\"\n",
        "# my_string[0] = \"H\""
      ],
      "metadata": {
        "id": "RPof3H0dmbRN"
      },
      "execution_count": null,
      "outputs": []
    },
    {
      "cell_type": "markdown",
      "source": [
        "3. What are the main differences between lists and tuples in Python ?\n",
        "\n",
        "Ans. Lists are mutable where as Tuples are immutable.\n",
        "\n",
        "Lists use [] and tuples use ()."
      ],
      "metadata": {
        "id": "HFJZWOHEmfjE"
      }
    },
    {
      "cell_type": "markdown",
      "source": [
        "4. Describe how dictionaries store data.\n",
        "\n",
        "Ans. Dictionaries store data in key-value pairs. Each key is unique and points to a value.\n",
        "\n",
        "student = {\"name\": \"Alice\", \"age\": 20}"
      ],
      "metadata": {
        "id": "uVaMrF-xnEsk"
      }
    },
    {
      "cell_type": "markdown",
      "source": [
        "5. Why might you use a set instead of a list in Python?\n",
        "\n",
        "Ans.You might use a set when you want to store unique items only and don’t care about the order. Sets automatically remove duplicate data."
      ],
      "metadata": {
        "id": "hWy9P_fznQ6M"
      }
    },
    {
      "cell_type": "markdown",
      "source": [
        "6. What is a string in Python, and how is it different from a list?\n",
        "\n",
        "Ans.A string is a sequence of characters, like \"hello\". A list is a collection of items that can be of different types. Strings are immutable, but lists are mutable.\n",
        "\n",
        "my_string = \"hello\"\n",
        "my_list = ['h', 'e', 'l', 'l', 'o']"
      ],
      "metadata": {
        "id": "7UJ0YvCTnlid"
      }
    },
    {
      "cell_type": "markdown",
      "source": [
        "7. How do tuples ensure data integrity in Python?\n",
        "\n",
        "Ans.Tuples are immutable, which means their values cannot be changed. This makes sure the data stays the same, after execution."
      ],
      "metadata": {
        "id": "rVID999ZokY1"
      }
    },
    {
      "cell_type": "markdown",
      "source": [
        "8. What is a hash table, and how does it relate to dictionaries in Python?\n",
        "\n",
        "Ans. A hash table is a data structure that stores data using a key and a hash function. Python dictionaries use a hash table behind the scenes to quickly find and store data using keys."
      ],
      "metadata": {
        "id": "2xCVo7odo3tE"
      }
    },
    {
      "cell_type": "markdown",
      "source": [
        "9. Can lists contain different data types in Python?\n",
        "\n",
        "Ans.Yes, lists can store items of different types.\n",
        "\n",
        "sample = [1, \"hello\", True, 3.14, 3+4j]"
      ],
      "metadata": {
        "id": "L-a3LZAFpnGL"
      }
    },
    {
      "cell_type": "markdown",
      "source": [
        "10. Explain why strings are immutable in Python\n",
        "\n",
        "Ans.Strings are immutable to keep them safe from unwanted changes. If you need a different string, you create a new one instead of changing the old one."
      ],
      "metadata": {
        "id": "hf2TkvyZp_48"
      }
    },
    {
      "cell_type": "markdown",
      "source": [
        "11. What advantages do dictionaries offer over lists for certain tasks?\n",
        "\n",
        "Ans.Dictionaries are better when you need to look up values quickly using a key. Lists are slower for searching because you have to check each item one by one through indexing.\n"
      ],
      "metadata": {
        "id": "ZqHatrVgq-0s"
      }
    },
    {
      "cell_type": "markdown",
      "source": [
        "12. Describe a scenario where using a tuple would be preferable over a list\n",
        "\n",
        "Ans.Use a tuple when you want to make sure the data doesn’t change."
      ],
      "metadata": {
        "id": "dyGZm_RHrOUM"
      }
    },
    {
      "cell_type": "markdown",
      "source": [
        "13. How do sets handle duplicate values in Python?\n",
        "\n",
        "Ans.Sets automatically remove duplicate datas from set of data in it. If you add the same item more than once, it will only keep one."
      ],
      "metadata": {
        "id": "o_GHZVT1ra7c"
      }
    },
    {
      "cell_type": "markdown",
      "source": [
        "14. How does the \"in\" keyword work differently for lists and dictionaries?\n",
        "\n",
        "Ans.In lists, \"in\" checks if a value is present.\n",
        "my_list = [1, 2, 3]\n",
        "print(2 in my_list)\n",
        "\n",
        "In dictionaries, \"in\" checks if a key is present.\n",
        "my_dict = {\"a\": 1}\n",
        "print(\"a\" in my_dict)\n",
        "\n",
        "In both the cases it will return True."
      ],
      "metadata": {
        "id": "hpjoh5BRrxpP"
      }
    },
    {
      "cell_type": "markdown",
      "source": [
        "15. Can you modify the elements of a tuple? Explain why or why not.\n",
        "\n",
        "Ans. No, we cannot. Tuples are immutable, which means you cannot change, add, or remove elements after creation.\n"
      ],
      "metadata": {
        "id": "k1cjRrMtsLv8"
      }
    },
    {
      "cell_type": "markdown",
      "source": [
        "16. What is a nested dictionary, and give an example of its use case?\n",
        "\n",
        "Ans. A nested dictionary is a dictionary inside another dictionary. It's useful for storing complex data, like info about students.\n",
        "\n",
        "students = {\n",
        "  \"Aman\": {\"age\": 20, \"grade\": \"A\"},\n",
        "  \"Ram\": {\"age\": 21, \"grade\": \"B\"}\n",
        "}"
      ],
      "metadata": {
        "id": "7VOQNBPhsTtT"
      }
    },
    {
      "cell_type": "markdown",
      "source": [
        "17. Describe the time complexity of accessing elements in a dictionary.\n",
        "\n",
        "Ans. Accessing elements in a dictionary is very fast than others."
      ],
      "metadata": {
        "id": "mmIles3rsk1c"
      }
    },
    {
      "cell_type": "markdown",
      "source": [
        "18. In what situations are lists preferred over dictionaries?\n",
        "\n",
        "Ans. Use lists when:\n",
        "(A)You only need to store items in order.\n",
        "(B)You don’t need key-value pairs.\n",
        "(C)You might have duplicates."
      ],
      "metadata": {
        "id": "nzgF-oSzsxRz"
      }
    },
    {
      "cell_type": "markdown",
      "source": [
        "19. Why are dictionaries considered unordered, and how does that affect data retrieval?\n",
        "\n",
        "Ans. Dictionaries didn’t keep the order of items in older versions of Python. Now they do in new verions, but they’re still mainly used for key-based access, not for their order."
      ],
      "metadata": {
        "id": "i_mxjq33tG5T"
      }
    },
    {
      "cell_type": "markdown",
      "source": [
        "20. Explain the difference between a list and a dictionary in terms of data retrieval.\n",
        "Ans. List: Accessed by index , e.g., my_list[0].\n",
        "Dictionary: Accessed by key, e.g., my_dict[\"name\"]."
      ],
      "metadata": {
        "id": "k6CtvVBytXrc"
      }
    },
    {
      "cell_type": "markdown",
      "source": [
        "1. Create a string with your name and print it."
      ],
      "metadata": {
        "id": "Rx6fFiVMvbv7"
      }
    },
    {
      "cell_type": "code",
      "source": [
        "name = \"Prince\"\n",
        "print(name)"
      ],
      "metadata": {
        "colab": {
          "base_uri": "https://localhost:8080/"
        },
        "id": "-WdXN1cavieT",
        "outputId": "2366b89d-d65a-439a-fd6c-18040ab7dcbe"
      },
      "execution_count": null,
      "outputs": [
        {
          "output_type": "stream",
          "name": "stdout",
          "text": [
            "Prince\n"
          ]
        }
      ]
    },
    {
      "cell_type": "markdown",
      "source": [
        "2. Find the length of the string 'Hello World'"
      ],
      "metadata": {
        "id": "93qQJjjzvuic"
      }
    },
    {
      "cell_type": "code",
      "source": [
        "greet = \"Hello World\"\n",
        "print(greet)"
      ],
      "metadata": {
        "colab": {
          "base_uri": "https://localhost:8080/"
        },
        "id": "dGwNPmRkv84r",
        "outputId": "cea6ad4c-9995-4cf9-9f67-2208d2021d3a"
      },
      "execution_count": null,
      "outputs": [
        {
          "output_type": "stream",
          "name": "stdout",
          "text": [
            "Hello World\n"
          ]
        }
      ]
    },
    {
      "cell_type": "markdown",
      "source": [
        "3. Slice the first 3 characters from the string 'Python Programming'"
      ],
      "metadata": {
        "id": "Ei1copJWxJBt"
      }
    },
    {
      "cell_type": "code",
      "source": [
        "text = \"PWSKILLS Data structure\"\n",
        "print(text[:8])"
      ],
      "metadata": {
        "colab": {
          "base_uri": "https://localhost:8080/"
        },
        "id": "G94ZS1AHxNSk",
        "outputId": "d45f630a-2d5f-462c-fb65-51c89ad9cd97"
      },
      "execution_count": null,
      "outputs": [
        {
          "output_type": "stream",
          "name": "stdout",
          "text": [
            "PWSKILLS\n"
          ]
        }
      ]
    },
    {
      "cell_type": "markdown",
      "source": [
        "4. Convert the string 'hello' to uppercase"
      ],
      "metadata": {
        "id": "TVEy4BZyxc_7"
      }
    },
    {
      "cell_type": "code",
      "source": [
        "text = \"hello\"\n",
        "print(text.upper())"
      ],
      "metadata": {
        "colab": {
          "base_uri": "https://localhost:8080/"
        },
        "id": "8UBpfJlDxgH7",
        "outputId": "46902552-b9b9-4b23-c5d4-786c43bd5445"
      },
      "execution_count": null,
      "outputs": [
        {
          "output_type": "stream",
          "name": "stdout",
          "text": [
            "HELLO\n"
          ]
        }
      ]
    },
    {
      "cell_type": "markdown",
      "source": [
        "6. Replace the word \"apple\" with \"orange\" in the string \"I like apple\""
      ],
      "metadata": {
        "id": "EX4nGEq_xnw8"
      }
    },
    {
      "cell_type": "code",
      "source": [
        "text = \"I like apple\"\n",
        "new_text = text.replace(\"apple\", \"orange\")\n",
        "print(new_text)"
      ],
      "metadata": {
        "colab": {
          "base_uri": "https://localhost:8080/"
        },
        "id": "cFHmexYqxs8c",
        "outputId": "db0e3f71-b600-4205-e830-1800fea0d2a0"
      },
      "execution_count": null,
      "outputs": [
        {
          "output_type": "stream",
          "name": "stdout",
          "text": [
            "I like orange\n"
          ]
        }
      ]
    },
    {
      "cell_type": "markdown",
      "source": [
        "6.Create a list with numbers 1 to 5 and print it"
      ],
      "metadata": {
        "id": "7f9W5qKMx-EV"
      }
    },
    {
      "cell_type": "code",
      "source": [
        "num = [1, 2, 3, 4, 5]\n",
        "print(num)"
      ],
      "metadata": {
        "colab": {
          "base_uri": "https://localhost:8080/"
        },
        "id": "QQLYQN6SyNiT",
        "outputId": "477d0413-81ed-476b-ddf8-3903ef6f2813"
      },
      "execution_count": null,
      "outputs": [
        {
          "output_type": "stream",
          "name": "stdout",
          "text": [
            "[1, 2, 3, 4, 5]\n"
          ]
        }
      ]
    },
    {
      "cell_type": "markdown",
      "source": [
        "7. Append the number 10 to the list [1, 2, 3, 4]"
      ],
      "metadata": {
        "id": "cyRSflyqyVLM"
      }
    },
    {
      "cell_type": "code",
      "source": [
        "num = [1, 2, 3, 4]\n",
        "num.append(10)\n",
        "print(num)"
      ],
      "metadata": {
        "colab": {
          "base_uri": "https://localhost:8080/"
        },
        "id": "DUxuhU4Vye9k",
        "outputId": "7a74a3eb-0ed9-45b2-a46e-2898269ef002"
      },
      "execution_count": null,
      "outputs": [
        {
          "output_type": "stream",
          "name": "stdout",
          "text": [
            "[1, 2, 3, 4, 10]\n"
          ]
        }
      ]
    },
    {
      "cell_type": "markdown",
      "source": [
        "8. Remove the number 3 from the list [1, 2, 3, 4, 5]"
      ],
      "metadata": {
        "id": "s89mSlsUymLF"
      }
    },
    {
      "cell_type": "code",
      "source": [
        "num = [1, 2, 3, 4, 5]\n",
        "num.remove(3)\n",
        "print(num)"
      ],
      "metadata": {
        "colab": {
          "base_uri": "https://localhost:8080/"
        },
        "id": "9RMu347Aysn8",
        "outputId": "bfdba57f-46b3-4354-946b-16dfdfedd3eb"
      },
      "execution_count": null,
      "outputs": [
        {
          "output_type": "stream",
          "name": "stdout",
          "text": [
            "[1, 2, 4, 5]\n"
          ]
        }
      ]
    },
    {
      "cell_type": "markdown",
      "source": [
        "9. Access the second element in the list ['a','b', 'c', 'd']"
      ],
      "metadata": {
        "id": "1unGkxkeyxW7"
      }
    },
    {
      "cell_type": "code",
      "source": [
        "letters = ['a', 'b', 'c', 'd']\n",
        "print(letters[1])"
      ],
      "metadata": {
        "colab": {
          "base_uri": "https://localhost:8080/"
        },
        "id": "YsO9BxnNy09E",
        "outputId": "4d5a9dd9-87cd-400e-f439-e72866232fb6"
      },
      "execution_count": null,
      "outputs": [
        {
          "output_type": "stream",
          "name": "stdout",
          "text": [
            "b\n"
          ]
        }
      ]
    },
    {
      "cell_type": "markdown",
      "source": [
        "10. Reverse the list [10, 20, 30, 40, 50]"
      ],
      "metadata": {
        "id": "FV9h2qcvy64L"
      }
    },
    {
      "cell_type": "code",
      "source": [
        "num = [10, 20, 30, 40, 50]\n",
        "num.reverse()\n",
        "print(num)"
      ],
      "metadata": {
        "colab": {
          "base_uri": "https://localhost:8080/"
        },
        "id": "hwg7S8r-y-oM",
        "outputId": "2597de0b-b680-4b9d-ffbe-b5b1af9de74d"
      },
      "execution_count": null,
      "outputs": [
        {
          "output_type": "stream",
          "name": "stdout",
          "text": [
            "[50, 40, 30, 20, 10]\n"
          ]
        }
      ]
    },
    {
      "cell_type": "markdown",
      "source": [
        "11. Create a tuple with the elements 100, 200, 300 and print it"
      ],
      "metadata": {
        "id": "R0p8e0P5zHoT"
      }
    },
    {
      "cell_type": "code",
      "source": [
        "my_tuple = (100, 200, 300)\n",
        "print(my_tuple)"
      ],
      "metadata": {
        "colab": {
          "base_uri": "https://localhost:8080/"
        },
        "id": "OiaB2KzYzM2r",
        "outputId": "d87d3997-b305-414c-d9b8-f8f2521a4048"
      },
      "execution_count": null,
      "outputs": [
        {
          "output_type": "stream",
          "name": "stdout",
          "text": [
            "(100, 200, 300)\n"
          ]
        }
      ]
    },
    {
      "cell_type": "markdown",
      "source": [
        "12. Access the second-to-last element of the tuple ('red', 'green', 'blue', 'yellow')\n"
      ],
      "metadata": {
        "id": "Lmuk_i7NzQxM"
      }
    },
    {
      "cell_type": "code",
      "source": [
        "colors = ('red', 'green', 'blue', 'yellow')\n",
        "print(colors[-2])"
      ],
      "metadata": {
        "colab": {
          "base_uri": "https://localhost:8080/"
        },
        "id": "dHX_vzRqzVFj",
        "outputId": "6b510820-59d9-41c2-c753-6fb89ceaedae"
      },
      "execution_count": null,
      "outputs": [
        {
          "output_type": "stream",
          "name": "stdout",
          "text": [
            "blue\n"
          ]
        }
      ]
    },
    {
      "cell_type": "markdown",
      "source": [
        "13. Find the minimum number in the tuple (10, 20, 5, 15)\n"
      ],
      "metadata": {
        "id": "1_f-hkfRzbS8"
      }
    },
    {
      "cell_type": "code",
      "source": [
        "num = (10, 20, 5, 15)\n",
        "print(min(num))\n"
      ],
      "metadata": {
        "colab": {
          "base_uri": "https://localhost:8080/"
        },
        "id": "ZSfTIgNuzexE",
        "outputId": "f0d12e77-8828-40e8-9596-95b0fedb16a3"
      },
      "execution_count": null,
      "outputs": [
        {
          "output_type": "stream",
          "name": "stdout",
          "text": [
            "5\n"
          ]
        }
      ]
    },
    {
      "cell_type": "markdown",
      "source": [
        "14. Find the index of the element \"cat\" in the tuple ('dog', 'cat', 'rabbit')\n"
      ],
      "metadata": {
        "id": "R03vK9ZMzkOc"
      }
    },
    {
      "cell_type": "code",
      "source": [
        "animals = ('dog', 'cat', 'rabbit')\n",
        "print(animals.index('cat'))"
      ],
      "metadata": {
        "id": "ziG7JJ64zptj",
        "outputId": "7d3e7199-8f4e-4508-909e-37307022f39f",
        "colab": {
          "base_uri": "https://localhost:8080/"
        }
      },
      "execution_count": null,
      "outputs": [
        {
          "output_type": "stream",
          "name": "stdout",
          "text": [
            "1\n"
          ]
        }
      ]
    },
    {
      "cell_type": "markdown",
      "source": [
        "15. Create a tuple with three fruits and check if \"kiwi\" is in it"
      ],
      "metadata": {
        "id": "1lTFzgcCN92D"
      }
    },
    {
      "cell_type": "code",
      "source": [
        "fruits = ('apple', 'banana', 'orange')\n",
        "print('kiwi' in fruits)"
      ],
      "metadata": {
        "colab": {
          "base_uri": "https://localhost:8080/"
        },
        "id": "KSVU1OfDOGUk",
        "outputId": "31fc50b4-56c7-41cb-b82e-22dd51208135"
      },
      "execution_count": 1,
      "outputs": [
        {
          "output_type": "stream",
          "name": "stdout",
          "text": [
            "False\n"
          ]
        }
      ]
    },
    {
      "cell_type": "markdown",
      "source": [
        "16. Create a set with the elements 'a', 'b', 'c' and print it"
      ],
      "metadata": {
        "id": "iGMt7TRfOQxs"
      }
    },
    {
      "cell_type": "code",
      "source": [
        "my_set = {'a', 'b', 'c'}\n",
        "print(my_set)"
      ],
      "metadata": {
        "colab": {
          "base_uri": "https://localhost:8080/"
        },
        "id": "hWHcVhgeOS3D",
        "outputId": "6c7a8270-bf60-4fdf-d127-6c6e317f1710"
      },
      "execution_count": 2,
      "outputs": [
        {
          "output_type": "stream",
          "name": "stdout",
          "text": [
            "{'b', 'c', 'a'}\n"
          ]
        }
      ]
    },
    {
      "cell_type": "markdown",
      "source": [
        "17. Clear all elements from the set (1, 2, 3, 4, 5)"
      ],
      "metadata": {
        "id": "mhGlm1e9OV-j"
      }
    },
    {
      "cell_type": "code",
      "source": [
        "my_set = {1, 2, 3, 4, 5}\n",
        "my_set.clear()\n",
        "print(my_set)"
      ],
      "metadata": {
        "colab": {
          "base_uri": "https://localhost:8080/"
        },
        "id": "aioCf6hJOaRk",
        "outputId": "f768b87d-bcf6-49f4-d0fa-bcdcce9a0903"
      },
      "execution_count": 3,
      "outputs": [
        {
          "output_type": "stream",
          "name": "stdout",
          "text": [
            "set()\n"
          ]
        }
      ]
    },
    {
      "cell_type": "markdown",
      "source": [
        "18. 18. Remove the element 4 from the set (1, 2, 3, 4)\n"
      ],
      "metadata": {
        "id": "FaIbFpGiOeNk"
      }
    },
    {
      "cell_type": "code",
      "source": [
        "my_set = {1, 2, 3, 4}\n",
        "my_set.remove(4)\n",
        "print(my_set)"
      ],
      "metadata": {
        "colab": {
          "base_uri": "https://localhost:8080/"
        },
        "id": "HfeL-pW-OhzM",
        "outputId": "503f3d4f-9dbe-4776-f2b9-f06850ba6b08"
      },
      "execution_count": 4,
      "outputs": [
        {
          "output_type": "stream",
          "name": "stdout",
          "text": [
            "{1, 2, 3}\n"
          ]
        }
      ]
    },
    {
      "cell_type": "markdown",
      "source": [
        "19. Find the union of two sets (1, 2, 3) and (3, 4, 5)"
      ],
      "metadata": {
        "id": "TwTWr2KyOk8D"
      }
    },
    {
      "cell_type": "code",
      "source": [
        "set1 = {1, 2, 3}\n",
        "set2 = {3, 4, 5}\n",
        "union_set = set1.union(set2)\n",
        "print(union_set)"
      ],
      "metadata": {
        "colab": {
          "base_uri": "https://localhost:8080/"
        },
        "id": "1p6I2EHKOoLz",
        "outputId": "258aa547-f7ab-41c5-dd04-1f468b594894"
      },
      "execution_count": 5,
      "outputs": [
        {
          "output_type": "stream",
          "name": "stdout",
          "text": [
            "{1, 2, 3, 4, 5}\n"
          ]
        }
      ]
    },
    {
      "cell_type": "markdown",
      "source": [
        "20. Find the intersection of two sets (1, 2, 3) and (2, 3, 4)"
      ],
      "metadata": {
        "id": "AwHJN-AlOriD"
      }
    },
    {
      "cell_type": "code",
      "source": [
        "set1 = {1, 2, 3}\n",
        "set2 = {2, 3, 4}\n",
        "intersection = set1.intersection(set2)\n",
        "print(intersection)"
      ],
      "metadata": {
        "colab": {
          "base_uri": "https://localhost:8080/"
        },
        "id": "OmRwxCEqOvkj",
        "outputId": "95e2b1a3-d8ae-4223-8a43-164d6fcbd8a2"
      },
      "execution_count": 6,
      "outputs": [
        {
          "output_type": "stream",
          "name": "stdout",
          "text": [
            "{2, 3}\n"
          ]
        }
      ]
    },
    {
      "cell_type": "markdown",
      "source": [
        "21. Create a dictionary with keys \"name\", \"age\", and \"city\", and print it"
      ],
      "metadata": {
        "id": "3_emxGWsOza0"
      }
    },
    {
      "cell_type": "code",
      "source": [
        "person = {\"name\": \"Prince\", \"age\": 30, \"city\": \"Kolkata\"}\n",
        "print(person)\n"
      ],
      "metadata": {
        "colab": {
          "base_uri": "https://localhost:8080/"
        },
        "id": "jR-h9b_2O3hc",
        "outputId": "addd156f-be57-4dda-cc81-e1d58e8536f8"
      },
      "execution_count": 7,
      "outputs": [
        {
          "output_type": "stream",
          "name": "stdout",
          "text": [
            "{'name': 'Prince', 'age': 30, 'city': 'Kolkata'}\n"
          ]
        }
      ]
    },
    {
      "cell_type": "markdown",
      "source": [
        "22. 22. Add a new key-value pair \"country\": \"USA\" to the dictionary {'name': 'John', 'age': 25}\n"
      ],
      "metadata": {
        "id": "vppr2Q-7PBPD"
      }
    },
    {
      "cell_type": "code",
      "source": [
        "person = {'name': 'John', 'age': 25}\n",
        "person['country'] = 'USA'\n",
        "print(person)\n"
      ],
      "metadata": {
        "colab": {
          "base_uri": "https://localhost:8080/"
        },
        "id": "b4hdHLooPFFr",
        "outputId": "570e5dcb-75ba-4f94-84d6-5c50e5519ae8"
      },
      "execution_count": 8,
      "outputs": [
        {
          "output_type": "stream",
          "name": "stdout",
          "text": [
            "{'name': 'John', 'age': 25, 'country': 'USA'}\n"
          ]
        }
      ]
    },
    {
      "cell_type": "markdown",
      "source": [
        "23. Access the value associated with the key \"name\" in the dictionary {'name': 'Alice', 'age': 30}"
      ],
      "metadata": {
        "id": "h8dA2rXzPP98"
      }
    },
    {
      "cell_type": "code",
      "source": [
        "person = {'name': 'Alice', 'age': 30}\n",
        "print(person['name'])\n"
      ],
      "metadata": {
        "colab": {
          "base_uri": "https://localhost:8080/"
        },
        "id": "VhM8hUqPPRsM",
        "outputId": "f8313550-21db-4ae9-ec38-cf4e08ce26c3"
      },
      "execution_count": 9,
      "outputs": [
        {
          "output_type": "stream",
          "name": "stdout",
          "text": [
            "Alice\n"
          ]
        }
      ]
    },
    {
      "cell_type": "markdown",
      "source": [
        "24. 24. Remove the key \"age\" from the dictionary {'name': 'Bob', 'age': 22, 'city': 'New York'}\n"
      ],
      "metadata": {
        "id": "kjsunzS_PVbM"
      }
    },
    {
      "cell_type": "code",
      "source": [
        "person = {'name': 'Bob', 'age': 22, 'city': 'New York'}\n",
        "del person['age']\n",
        "print(person)"
      ],
      "metadata": {
        "colab": {
          "base_uri": "https://localhost:8080/"
        },
        "id": "BqRinnykPazF",
        "outputId": "84b61444-8bf9-40ce-e653-836903fbbc1b"
      },
      "execution_count": 10,
      "outputs": [
        {
          "output_type": "stream",
          "name": "stdout",
          "text": [
            "{'name': 'Bob', 'city': 'New York'}\n"
          ]
        }
      ]
    },
    {
      "cell_type": "markdown",
      "source": [
        "25. 25. Check if the key \"city\" exists in the dictionary {'name': 'Alice', 'city': 'Paris'}\n"
      ],
      "metadata": {
        "id": "H3E77XNGPgpk"
      }
    },
    {
      "cell_type": "code",
      "source": [
        "person = {'name': 'Alice', 'city': 'Paris'}\n",
        "print('city' in person)"
      ],
      "metadata": {
        "colab": {
          "base_uri": "https://localhost:8080/"
        },
        "id": "c7R1xJODPkZD",
        "outputId": "6839f8fb-aea1-47c4-fcd5-7c9fc9ef8872"
      },
      "execution_count": 11,
      "outputs": [
        {
          "output_type": "stream",
          "name": "stdout",
          "text": [
            "True\n"
          ]
        }
      ]
    },
    {
      "cell_type": "markdown",
      "source": [
        "26. Create a list, a tuple, and a dictionary, and print them all\n"
      ],
      "metadata": {
        "id": "ESEXrsLcPnVU"
      }
    },
    {
      "cell_type": "code",
      "source": [
        "list1 = [1, 2, 3]\n",
        "tuple2 = (4, 5, 6)\n",
        "dict3 = {'a': 1, 'b': 2}\n",
        "print(list1)\n",
        "print(tuple2)\n",
        "print(dict3)"
      ],
      "metadata": {
        "colab": {
          "base_uri": "https://localhost:8080/"
        },
        "id": "mVpIioxSPsZs",
        "outputId": "544ee286-ca86-4760-d6f3-fb2f54c15b5c"
      },
      "execution_count": 12,
      "outputs": [
        {
          "output_type": "stream",
          "name": "stdout",
          "text": [
            "[1, 2, 3]\n",
            "(4, 5, 6)\n",
            "{'a': 1, 'b': 2}\n"
          ]
        }
      ]
    },
    {
      "cell_type": "markdown",
      "source": [
        "27. Create a list of 5 random numbers between 1 and 100, sort it, and print the result"
      ],
      "metadata": {
        "id": "bSAXiD8kP72M"
      }
    },
    {
      "cell_type": "code",
      "source": [
        "numbers = [37, 12, 89, 5, 64]\n",
        "numbers.sort()\n",
        "print(\"Sorted numbers:\", numbers)"
      ],
      "metadata": {
        "colab": {
          "base_uri": "https://localhost:8080/"
        },
        "id": "mE6bsgkBP_es",
        "outputId": "ba9024ff-7221-402e-9aa2-392a98cea90b"
      },
      "execution_count": 13,
      "outputs": [
        {
          "output_type": "stream",
          "name": "stdout",
          "text": [
            "Sorted numbers: [5, 12, 37, 64, 89]\n"
          ]
        }
      ]
    },
    {
      "cell_type": "markdown",
      "source": [
        "28. Create a list with strings and print the element at the third index"
      ],
      "metadata": {
        "id": "fBJEX_CDQh_1"
      }
    },
    {
      "cell_type": "code",
      "source": [
        "words = ['apple', 'banana', 'cherry', 'date', 'elderberry']\n",
        "print(words[3])"
      ],
      "metadata": {
        "colab": {
          "base_uri": "https://localhost:8080/"
        },
        "id": "l8mVFHICQm4l",
        "outputId": "f45762ee-a460-4068-b0e0-c073f1edd106"
      },
      "execution_count": 14,
      "outputs": [
        {
          "output_type": "stream",
          "name": "stdout",
          "text": [
            "date\n"
          ]
        }
      ]
    },
    {
      "cell_type": "markdown",
      "source": [
        "29. Combine two dictionaries into one and print the result"
      ],
      "metadata": {
        "id": "F-wGvxIpQr0O"
      }
    },
    {
      "cell_type": "code",
      "source": [
        "dict1 = {'a': 1, 'b': 2}\n",
        "dict2 = {'c': 3, 'd': 4}\n",
        "comb = {**dict1, **dict2}\n",
        "print(comb)"
      ],
      "metadata": {
        "colab": {
          "base_uri": "https://localhost:8080/"
        },
        "id": "QJeqks-3Qv61",
        "outputId": "bba39ed8-1b71-47d4-91d7-1e0846ad3cec"
      },
      "execution_count": 16,
      "outputs": [
        {
          "output_type": "stream",
          "name": "stdout",
          "text": [
            "{'a': 1, 'b': 2, 'c': 3, 'd': 4}\n"
          ]
        }
      ]
    },
    {
      "cell_type": "markdown",
      "source": [
        "30. Convert a list of strings into a set\n"
      ],
      "metadata": {
        "id": "gI_89ACyRDhl"
      }
    },
    {
      "cell_type": "code",
      "source": [
        "words = ['apple', 'banana', 'apple', 'cherry']\n",
        "words_set = set(words)\n",
        "print(words_set)"
      ],
      "metadata": {
        "colab": {
          "base_uri": "https://localhost:8080/"
        },
        "id": "6sMYT_tYRGKN",
        "outputId": "4e4d89b7-896a-4c9c-ba79-c535dd797b55"
      },
      "execution_count": 17,
      "outputs": [
        {
          "output_type": "stream",
          "name": "stdout",
          "text": [
            "{'cherry', 'apple', 'banana'}\n"
          ]
        }
      ]
    }
  ]
}