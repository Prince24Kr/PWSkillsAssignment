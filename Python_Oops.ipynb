{
  "nbformat": 4,
  "nbformat_minor": 0,
  "metadata": {
    "colab": {
      "provenance": []
    },
    "kernelspec": {
      "name": "python3",
      "display_name": "Python 3"
    },
    "language_info": {
      "name": "python"
    }
  },
  "cells": [
    {
      "cell_type": "markdown",
      "source": [
        "1. What is Object-Oriented Programming (OOP)?\n",
        "\n",
        "Ans. OOP is a way of writing programs using objects. These objects are like real-world things (like a car or a student) that have data (attributes) and functions (methods) to do things."
      ],
      "metadata": {
        "id": "4STHe6OeJ9zE"
      }
    },
    {
      "cell_type": "markdown",
      "source": [
        "2. What is a class in OOP?\n",
        "\n",
        "Ans. A class is like a blueprint or a template. For example, a \"Car\" class describes what all cars have wheels, color and what they can do drive, stop.\n"
      ],
      "metadata": {
        "id": "rLQ1AIbvKMla"
      }
    },
    {
      "cell_type": "markdown",
      "source": [
        "3. What is an object in OOP?\n",
        "\n",
        "Ans. An object is a real example of a class. If Car is a class, then my_car is an object of that class."
      ],
      "metadata": {
        "id": "HkyySRmiKcqT"
      }
    },
    {
      "cell_type": "markdown",
      "source": [
        "4. What is the difference between abstraction and encapsulation?\n",
        "\n",
        "Ans. Abstraction hides how things work and shows only important details.\n",
        "\n",
        "Encapsulation means keeping data and code together in one unit of a class, and hiding the internal details from outside.\n"
      ],
      "metadata": {
        "id": "XK_T8eQ3KlSb"
      }
    },
    {
      "cell_type": "markdown",
      "source": [
        "5. What are dunder methods in Python?\n",
        "\n",
        "Ans. \"Dunder\" means double underscore. These are special methods like __init__, __str__,__new__,__main__,__str__ etc., used for special behavior in Python classes.\n"
      ],
      "metadata": {
        "id": "48h_4soEKyJz"
      }
    },
    {
      "cell_type": "markdown",
      "source": [
        "6. Explain the concept of inheritance in OOP.\n",
        "\n",
        "Ans. Inheritance lets one class get features from another class. We can say a child can have a property inherited from his father , grandfather. Like a Dog class can inherit from an Animal class.\n"
      ],
      "metadata": {
        "id": "j0oPQnUfLDUz"
      }
    },
    {
      "cell_type": "markdown",
      "source": [
        "7. What is polymorphism in OOP?\n",
        "\n",
        "Ans. Poly means many, morph means forms. Polymorphism means the same function name can do different things depending on the object. For example, speak() might work differently for Dog and Cat, because the language is different for different animals but their function is same i.e, speak.\n"
      ],
      "metadata": {
        "id": "l_Hqgr5rLaC8"
      }
    },
    {
      "cell_type": "markdown",
      "source": [
        "8. How is encapsulation achieved in Python?\n",
        "\n",
        "Ans. Encapsulation is done using classes and access modifiers like (_)single underscore for protected or (__) double underscore for private to hide data."
      ],
      "metadata": {
        "id": "jfiPCufjL_Tx"
      }
    },
    {
      "cell_type": "markdown",
      "source": [
        "9. What is a constructor in Python?\n",
        "\n",
        "Ans. A constructor is a special method (__init__) that runs automatically when an object is created. It sets up the object."
      ],
      "metadata": {
        "id": "0LVrCR5RMYw5"
      }
    },
    {
      "cell_type": "markdown",
      "source": [
        "10. What are class and static methods in Python?\n",
        "\n",
        "Ans. Class method works with the class itself, not an object.Here first argument is cls. Use @classmethod.\n",
        "\n",
        "Static method doesn’t use class or object data. Use @staticmethod.\n"
      ],
      "metadata": {
        "id": "ZAWSm9VlMi1_"
      }
    },
    {
      "cell_type": "markdown",
      "source": [
        "11. What is method overloading in Python?\n",
        "\n",
        "Ans. Python does not support real method overloading, but you can create a function that works with different number of arguments using default values or *args."
      ],
      "metadata": {
        "id": "TtdCJm5oM2o3"
      }
    },
    {
      "cell_type": "markdown",
      "source": [
        "12. What is method overriding in OOP?\n",
        "\n",
        "Ans. In method overriding, a child class changes the behavior of a method from the parent class."
      ],
      "metadata": {
        "id": "I1liM0GQNXiR"
      }
    },
    {
      "cell_type": "markdown",
      "source": [
        "13. What is a property decorator in Python?\n",
        "\n",
        "Ans. @property lets you use a method like a variable. It's useful to control access to class data."
      ],
      "metadata": {
        "id": "K4s9KQW_Nd_3"
      }
    },
    {
      "cell_type": "markdown",
      "source": [
        "14. Why is polymorphism important in OOP?\n",
        "\n",
        "Ans. It allows code to be flexible and reusable. You can write one function that works with many types of objects."
      ],
      "metadata": {
        "id": "fC6q5sbHNppX"
      }
    },
    {
      "cell_type": "markdown",
      "source": [
        "15. What is an abstract class in Python?\n",
        "\n",
        "Ans. An abstract class is a class that cannot be used directly. It only gives a structure. We use it to create other classes."
      ],
      "metadata": {
        "id": "NGatb97kNzNQ"
      }
    },
    {
      "cell_type": "markdown",
      "source": [
        "16. What are the advantages of OOP?\n",
        "\n",
        "Ans. Better code organization,easy to reuse,easy to maintain and update and makes complex programs easier to manage"
      ],
      "metadata": {
        "id": "DQp_jtObN3Q3"
      }
    },
    {
      "cell_type": "markdown",
      "source": [
        "17. What is the difference between a class variable and an instance variable?\n",
        "\n",
        "Ans. Class variable is shared by all objects whereas instance variable is different for each object."
      ],
      "metadata": {
        "id": "O2B749VnOQdZ"
      }
    },
    {
      "cell_type": "markdown",
      "source": [
        "18. What is multiple inheritance in Python?\n",
        "\n",
        "Ans. When a class inherits from more than one parent class."
      ],
      "metadata": {
        "id": "6IjQT5C2Oclf"
      }
    },
    {
      "cell_type": "markdown",
      "source": [
        "19. Explain the purpose of _str_ and _repr_ methods in Python.\n",
        "\n",
        "Ans. __str__ Returns a user-friendly string of the object.\n",
        "\n",
        "__repr__ Returns a developer-friendly string ."
      ],
      "metadata": {
        "id": "LyWvUFe-OiNI"
      }
    },
    {
      "cell_type": "markdown",
      "source": [
        "20. What is the significance of the super() function in Python?\n",
        "\n",
        "Ans. super() is used to call parent class methods in a child class.\n"
      ],
      "metadata": {
        "id": "0SbHOZpqPFh5"
      }
    },
    {
      "cell_type": "markdown",
      "source": [
        "21. What is the significance of the _del_ method in Python?\n",
        "\n",
        "Ans. __del__ is called when an object is deleted."
      ],
      "metadata": {
        "id": "-8ud-hFpPN54"
      }
    },
    {
      "cell_type": "markdown",
      "source": [
        "22. What is the difference between @staticmethod and @classmethod in Python?\n",
        "\n",
        "Ans. @staticmethod does not take self or cls. @classmethod takes cls and works with the class, not the object."
      ],
      "metadata": {
        "id": "Hht5gq4sPXeP"
      }
    },
    {
      "cell_type": "markdown",
      "source": [
        "23. How does polymorphism work in Python with inheritance?\n",
        "\n",
        "Ans. You can define the same method in different child classes, and Python will automatically choose according to the object."
      ],
      "metadata": {
        "id": "3BnZPFAHPeef"
      }
    },
    {
      "cell_type": "markdown",
      "source": [
        "24. What is method chaining in Python OOP?\n",
        "\n",
        "Ans. Method chaining means calling multiple methods one after the other using dots, For example:\n",
        "obj.method1().method2().method3()"
      ],
      "metadata": {
        "id": "ZBNxRJ13Pwx3"
      }
    },
    {
      "cell_type": "markdown",
      "source": [
        "25. What is the purpose of the _call_ method in Python?\n",
        "\n",
        "Ans. It lets you use an object like a function.\n",
        "Example:obj()"
      ],
      "metadata": {
        "id": "f234EEy2P7gH"
      }
    },
    {
      "cell_type": "markdown",
      "source": [
        "1. Create a parent class Animal with a method speak() that prints a generic message. Create a child class Dog\n",
        "that overrides the speak() method to print \"Bark!\"."
      ],
      "metadata": {
        "id": "cyqcFLmDQk6X"
      }
    },
    {
      "cell_type": "code",
      "source": [
        "class Animal():\n",
        "    def speak(self):\n",
        "        print(\"Generic message\")\n",
        "\n",
        "class Dog(Animal):\n",
        "    def speak(self):\n",
        "        print(\"Bark!\")\n",
        "\n",
        "dog = Dog()\n",
        "dog.speak()"
      ],
      "metadata": {
        "colab": {
          "base_uri": "https://localhost:8080/"
        },
        "id": "nE64e9YCQqd4",
        "outputId": "1905e19d-4b3c-40cb-ff28-fb3fcefafe3b"
      },
      "execution_count": null,
      "outputs": [
        {
          "output_type": "stream",
          "name": "stdout",
          "text": [
            "Bark!\n"
          ]
        }
      ]
    },
    {
      "cell_type": "markdown",
      "source": [
        " 2.Write a program to create an abstract class Shape with a method area(). Derive classes Circle and Rectangle\n",
        "from it and implement the area() method in both."
      ],
      "metadata": {
        "id": "3kGRjEZzQ84X"
      }
    },
    {
      "cell_type": "code",
      "source": [
        "class Shape():\n",
        "    def area(self):\n",
        "        pass\n",
        "\n",
        "class Circle(Shape):\n",
        "    def area(self, radius):\n",
        "        return 3.14 * radius * radius\n",
        "\n",
        "class Rectangle(Shape):\n",
        "    def area(self, length, width):\n",
        "        return length * width\n",
        "\n",
        "circle = Circle()\n",
        "rectangle = Rectangle()\n",
        "\n",
        "print(\"Circle Area:\", circle.area(5))\n",
        "print(\"Rectangle Area:\", rectangle.area(4, 6))\n"
      ],
      "metadata": {
        "colab": {
          "base_uri": "https://localhost:8080/"
        },
        "id": "qsKvEXnZRBuP",
        "outputId": "da62851b-907d-44f3-ea35-acdf108fc44b"
      },
      "execution_count": null,
      "outputs": [
        {
          "output_type": "stream",
          "name": "stdout",
          "text": [
            "Circle Area: 78.5\n",
            "Rectangle Area: 24\n"
          ]
        }
      ]
    },
    {
      "cell_type": "markdown",
      "source": [
        "3. Implement a multi-level inheritance scenario where a class Vehicle has an attribute type. Derive a class Car\n",
        "and further derive a class ElectricCar that adds a battery attribute."
      ],
      "metadata": {
        "id": "wcTpEmllRmlZ"
      }
    },
    {
      "cell_type": "code",
      "source": [
        "class Vehicle():\n",
        "    def __init__(self, type):\n",
        "        self.type = type\n",
        "\n",
        "    def get_type(self):\n",
        "        return self.type\n",
        "\n",
        "class Car(Vehicle):\n",
        "    def __init__(self):\n",
        "        super().__init__(\"car\")\n",
        "\n",
        "class ElectricCar(Vehicle):\n",
        "    def __init__(self):\n",
        "        super().__init__(\"car\")\n",
        "\n",
        "        self.battery = 100\n",
        "\n",
        "    def get_battery(self):\n",
        "        return self.battery\n",
        "\n",
        "\n",
        "car = Car()\n",
        "electric_car = ElectricCar()\n",
        "\n",
        "print(\"Car Type:\", car.get_type())\n",
        "print(\"Electric Car Type:\", electric_car.get_type())\n",
        "print(\"Electric Car Battery:\", electric_car.get_battery())"
      ],
      "metadata": {
        "colab": {
          "base_uri": "https://localhost:8080/"
        },
        "id": "i_IFib2zRo7Z",
        "outputId": "7165cba7-ba91-4686-c10f-238611f5e2b2"
      },
      "execution_count": null,
      "outputs": [
        {
          "output_type": "stream",
          "name": "stdout",
          "text": [
            "Car Type: car\n",
            "Electric Car Type: car\n",
            "Electric Car Battery: 100\n"
          ]
        }
      ]
    },
    {
      "cell_type": "markdown",
      "source": [
        "4. Demonstrate polymorphism by creating a base class Bird with a method fly(). Create two derived classes\n",
        "Sparrow and Penguin that override the fly() method."
      ],
      "metadata": {
        "id": "jDdhYDIcSbsf"
      }
    },
    {
      "cell_type": "code",
      "source": [
        "class Bird():\n",
        "    def fly(self):\n",
        "        print(\"Bird is flying\")\n",
        "\n",
        "class Sparrow(Bird):\n",
        "    def fly(self):\n",
        "        print(\"Sparrow is flying\")\n",
        "\n",
        "class Penguin(Bird):\n",
        "    def fly(self):\n",
        "        print(\"Penguin is not flying\")\n",
        "sp = Sparrow()\n",
        "sp.fly()\n",
        "pe = Penguin()\n",
        "pe.fly()"
      ],
      "metadata": {
        "colab": {
          "base_uri": "https://localhost:8080/"
        },
        "id": "6HQr3OKzekS-",
        "outputId": "9db516d7-1689-48f0-9e8c-02bae77a7757"
      },
      "execution_count": null,
      "outputs": [
        {
          "output_type": "stream",
          "name": "stdout",
          "text": [
            "Sparrow is flying\n",
            "Penguin is not flying\n"
          ]
        }
      ]
    },
    {
      "cell_type": "markdown",
      "source": [
        "5. Write a program to demonstrate encapsulation by creating a class BankAccount with private attributes\n",
        "balance and methods to deposit, withdraw, and check balance."
      ],
      "metadata": {
        "id": "FBSu4ZDde1Zu"
      }
    },
    {
      "cell_type": "code",
      "source": [
        "class  BankAccount():\n",
        "  def __init__(self,balance):\n",
        "    self.__balance = balance\n",
        "\n",
        "  def deposit(self,amount):\n",
        "    self.__balance += amount\n",
        "    return self.__balance\n",
        "  def withdraw(self,amount):\n",
        "    self.__balance -= amount\n",
        "    return self.__balance\n",
        "  def check_balance(self):\n",
        "    return self.__balance\n",
        "if __name__ == \"__main__\":\n",
        "  account = BankAccount(1000)\n",
        "  print(account.deposit(500))\n",
        "  print(account.withdraw(200))\n",
        "  print(account.check_balance())"
      ],
      "metadata": {
        "colab": {
          "base_uri": "https://localhost:8080/"
        },
        "id": "BslnDCBAf4IO",
        "outputId": "bc2e78e8-2a04-4c4c-d737-2e6eb6aae897"
      },
      "execution_count": null,
      "outputs": [
        {
          "output_type": "stream",
          "name": "stdout",
          "text": [
            "1500\n",
            "1300\n",
            "1300\n"
          ]
        }
      ]
    },
    {
      "cell_type": "markdown",
      "source": [
        "6. Demonstrate runtime polymorphism using a method play() in a base class Instrument. Derive classes Guitar\n",
        "and Piano that implement their own version of play()"
      ],
      "metadata": {
        "id": "heMp45Eihrvt"
      }
    },
    {
      "cell_type": "code",
      "source": [
        "class Instrument():\n",
        "    def play(self):\n",
        "        print(\"Instrument is playing\")\n",
        "\n",
        "class Guitar(Instrument):\n",
        "    def play(self):\n",
        "        print(\"Guitar is playing\")\n",
        "\n",
        "class Piano(Instrument):\n",
        "    def play(self):\n",
        "        print(\"Piano is playing\")\n",
        "gui = Guitar()\n",
        "gui.play()\n",
        "pia = Piano()\n",
        "pia.play()"
      ],
      "metadata": {
        "colab": {
          "base_uri": "https://localhost:8080/"
        },
        "id": "ZQNEeJcUhwI9",
        "outputId": "2ce34089-5bce-4104-dd67-a28bdc8de221"
      },
      "execution_count": null,
      "outputs": [
        {
          "output_type": "stream",
          "name": "stdout",
          "text": [
            "Guitar is playing\n",
            "Piano is playing\n"
          ]
        }
      ]
    },
    {
      "cell_type": "markdown",
      "source": [
        "7. Create a class MathOperations with a class method add_numbers() to add two numbers and a static\n",
        "method subtract_numbers() to subtract two numbers"
      ],
      "metadata": {
        "id": "Lh00zQzeiVD1"
      }
    },
    {
      "cell_type": "code",
      "source": [
        "class MathOperations():\n",
        "    @classmethod\n",
        "    def add_numbers(cls, num1, num2):\n",
        "        return num1 + num2\n",
        "\n",
        "    @staticmethod\n",
        "    def subtract_numbers(num1, num2):\n",
        "        return num1 - num2\n",
        "print(MathOperations.add_numbers(5, 3))\n",
        "print(MathOperations.subtract_numbers(10, 4))"
      ],
      "metadata": {
        "colab": {
          "base_uri": "https://localhost:8080/"
        },
        "id": "gqKOCRWHiY6P",
        "outputId": "221b7c68-a43f-4693-8979-9ac3a67a4774"
      },
      "execution_count": null,
      "outputs": [
        {
          "output_type": "stream",
          "name": "stdout",
          "text": [
            "8\n",
            "6\n"
          ]
        }
      ]
    },
    {
      "cell_type": "markdown",
      "source": [
        "8. Implement a class Person with a class method to count the total number of persons created."
      ],
      "metadata": {
        "id": "4X5gP_A9ll6u"
      }
    },
    {
      "cell_type": "code",
      "source": [
        "class Person():\n",
        "    count = 0\n",
        "\n",
        "    def __init__(self):\n",
        "        Person.count += 1\n",
        "\n",
        "    @classmethod\n",
        "    def get_count(cls):\n",
        "        return cls.count\n",
        "person1 = Person()\n",
        "person2 = Person()\n",
        "person3 = Person()\n",
        "print(Person.get_count())"
      ],
      "metadata": {
        "colab": {
          "base_uri": "https://localhost:8080/"
        },
        "id": "g80RJJYwlqkf",
        "outputId": "1330f36a-26e5-42a8-9ddd-dcc537c63716"
      },
      "execution_count": null,
      "outputs": [
        {
          "output_type": "stream",
          "name": "stdout",
          "text": [
            "3\n"
          ]
        }
      ]
    },
    {
      "cell_type": "markdown",
      "source": [
        "9. Write a class Fraction with attributes numerator and denominator. Override the str method to display the\n",
        "fraction as \"numerator/denominator\"."
      ],
      "metadata": {
        "id": "ole-RaDSnO49"
      }
    },
    {
      "cell_type": "code",
      "source": [
        "class Fraction():\n",
        "    def __init__(self, numerator, denominator):\n",
        "        self.numerator = numerator\n",
        "        self.denominator = denominator\n",
        "\n",
        "    def __str__(self):\n",
        "        return f\"{self.numerator}/{self.denominator}\"\n",
        "fraction = Fraction(3, 4)\n",
        "print(fraction)\n"
      ],
      "metadata": {
        "colab": {
          "base_uri": "https://localhost:8080/"
        },
        "id": "Vm308oiLnTSU",
        "outputId": "9d195b35-6b63-4e96-cb72-e0ec035eff13"
      },
      "execution_count": null,
      "outputs": [
        {
          "output_type": "stream",
          "name": "stdout",
          "text": [
            "3/4\n"
          ]
        }
      ]
    },
    {
      "cell_type": "markdown",
      "source": [
        "10. Demonstrate operator overloading by creating a class Vector and overriding the add method to add two\n",
        "vectors."
      ],
      "metadata": {
        "id": "kD7sgrOXnmOu"
      }
    },
    {
      "cell_type": "code",
      "source": [
        "class Vector():\n",
        "    def __init__(self, x, y):\n",
        "        self.x = x\n",
        "        self.y = y\n",
        "\n",
        "    def __add__(self, other):\n",
        "        return Vector(self.x + other.x, self.y + other.y)\n",
        "    def __repr__(self):\n",
        "        return f\"Vector({self.x}, {self.y})\"\n",
        "\n",
        "print(Vector(1, 2) + Vector(3, 4))"
      ],
      "metadata": {
        "colab": {
          "base_uri": "https://localhost:8080/"
        },
        "id": "xZ0Vkii6npO9",
        "outputId": "738cf9f5-5c46-4d38-bd45-5389fba1f835"
      },
      "execution_count": null,
      "outputs": [
        {
          "output_type": "stream",
          "name": "stdout",
          "text": [
            "Vector(4, 6)\n"
          ]
        }
      ]
    },
    {
      "cell_type": "markdown",
      "source": [
        "11. Create a class Person with attributes name and age. Add a method greet() that prints \"Hello, my name is\n",
        "{name} and I am {age} years old.\""
      ],
      "metadata": {
        "id": "Ng0IXr_DIVye"
      }
    },
    {
      "cell_type": "code",
      "source": [
        "class Person():\n",
        "    def __init__(self, name, age):\n",
        "        self.name = name\n",
        "        self.age = age\n",
        "\n",
        "    def greet(self):\n",
        "        print(f\"Hello, my name is {self.name} and I am {self.age} years old.\")\n",
        "per = Person(\"Arun\", 30)\n",
        "per.greet()"
      ],
      "metadata": {
        "colab": {
          "base_uri": "https://localhost:8080/"
        },
        "id": "dP3Pf4TmIcnU",
        "outputId": "18adc306-f9f1-4bd6-952e-65cac3c0c764"
      },
      "execution_count": 2,
      "outputs": [
        {
          "output_type": "stream",
          "name": "stdout",
          "text": [
            "Hello, my name is Arun and I am 30 years old.\n"
          ]
        }
      ]
    },
    {
      "cell_type": "markdown",
      "source": [
        "12. Implement a class Student with attributes name and grades. Create a method average_grade() to compute\n",
        "the average of the grades."
      ],
      "metadata": {
        "id": "F67Q9dL_JGE0"
      }
    },
    {
      "cell_type": "code",
      "source": [
        "class Student():\n",
        "    def __init__(self, name, grades):\n",
        "        self.name = name\n",
        "        self.grades = grades\n",
        "\n",
        "    def average_grade(self):\n",
        "        return sum(self.grades) / len(self.grades)\n",
        "stud = Student(\"Arun\", [90, 80, 70])\n",
        "print(stud.average_grade())"
      ],
      "metadata": {
        "colab": {
          "base_uri": "https://localhost:8080/"
        },
        "id": "zY7wWoT0JLjU",
        "outputId": "b349676c-7d6c-41d9-e60c-878695e92552"
      },
      "execution_count": 3,
      "outputs": [
        {
          "output_type": "stream",
          "name": "stdout",
          "text": [
            "80.0\n"
          ]
        }
      ]
    },
    {
      "cell_type": "markdown",
      "source": [
        "13. Create a class Rectangle with methods set_dimensions() to set the dimensions and area() to calculate the\n",
        "area."
      ],
      "metadata": {
        "id": "BsWzCynYJnQU"
      }
    },
    {
      "cell_type": "code",
      "source": [
        "class Rectangle():\n",
        "  def __init__(self):\n",
        "      pass\n",
        "  def set_dimensions(self,length,width):\n",
        "    self.length = length\n",
        "    self.width = width\n",
        "  def area(self):\n",
        "    return self.length * self.width\n",
        "rec = Rectangle()\n",
        "rec.set_dimensions(5,6)\n",
        "print(rec.area())"
      ],
      "metadata": {
        "colab": {
          "base_uri": "https://localhost:8080/"
        },
        "id": "ZKZmY0RFJs7s",
        "outputId": "d010cf2b-d26d-4003-d7a7-0248b975e9bf"
      },
      "execution_count": 6,
      "outputs": [
        {
          "output_type": "stream",
          "name": "stdout",
          "text": [
            "30\n"
          ]
        }
      ]
    },
    {
      "cell_type": "markdown",
      "source": [
        "14. Create a class Employee with a method calculate_salary() that computes the salary based on hours worked\n",
        "and hourly rate. Create a derived class Manager that adds a bonus to the salary."
      ],
      "metadata": {
        "id": "xAdHdLkAL9wU"
      }
    },
    {
      "cell_type": "code",
      "source": [
        "class Employee():\n",
        "    def __init__(self, name, hours_worked, hourly_rate):\n",
        "        self.name = name\n",
        "        self.hours_worked = hours_worked\n",
        "        self.hourly_rate = hourly_rate\n",
        "\n",
        "    def calculate_salary(self):\n",
        "        return self.hours_worked * self.hourly_rate\n",
        "\n",
        "class Manager(Employee):\n",
        "    bonus = 1000\n",
        "    def calculate_salary(self):\n",
        "        base_salary = super().calculate_salary()\n",
        "        new_salary = self.bonus + base_salary\n",
        "        return new_salary\n",
        "\n",
        "emp = Employee(\"Arun\", 40, 50)\n",
        "print(emp.calculate_salary())\n",
        "man = Manager(\"Arun\", 40, 20)\n",
        "print(man.calculate_salary())"
      ],
      "metadata": {
        "colab": {
          "base_uri": "https://localhost:8080/"
        },
        "id": "RHWpS6PBMR7L",
        "outputId": "da4da388-ca47-4527-a142-999b6f244ff5"
      },
      "execution_count": 13,
      "outputs": [
        {
          "output_type": "stream",
          "name": "stdout",
          "text": [
            "2000\n",
            "1800\n"
          ]
        }
      ]
    },
    {
      "cell_type": "markdown",
      "source": [
        "15. Create a class Product with attributes name, price, and quantity. Implement a method total_price() that\n",
        "calculates the total price of the product."
      ],
      "metadata": {
        "id": "yvXhX2kIPnzT"
      }
    },
    {
      "cell_type": "code",
      "source": [
        "class Product():\n",
        "  def __init__(self,name,price,quantity):\n",
        "    self.name = name\n",
        "    self.price = price\n",
        "    self.quantity = quantity\n",
        "  def total_price(self):\n",
        "    return self.price * self.quantity\n",
        "prod = Product(\"Pen\",10,2)\n",
        "print(prod.total_price())"
      ],
      "metadata": {
        "colab": {
          "base_uri": "https://localhost:8080/"
        },
        "id": "ZCeZppY0Ptsc",
        "outputId": "4321730c-364e-4eca-8f7b-6ab74840b4b1"
      },
      "execution_count": 15,
      "outputs": [
        {
          "output_type": "stream",
          "name": "stdout",
          "text": [
            "20\n"
          ]
        }
      ]
    },
    {
      "cell_type": "markdown",
      "source": [
        "16. Create a class Animal with an abstract method sound(). Create two derived classes Cow and Sheep that\n",
        "implement the sound() method"
      ],
      "metadata": {
        "id": "l5wmd7TnQ-3T"
      }
    },
    {
      "cell_type": "code",
      "source": [
        "from abc import abstractmethod\n",
        "class Animal():\n",
        "  @abstractmethod\n",
        "  def __init__(self):\n",
        "    pass\n",
        "  @abstractmethod\n",
        "  def sound(self):\n",
        "    pass\n",
        "class Cow(Animal):\n",
        "  def sound(self):\n",
        "    print(\"Cow Speaking\")\n",
        "class Sheep(Animal):\n",
        "  def sound(self):\n",
        "    print(\"Sheep Speaking\")\n",
        "cow = Cow()\n",
        "cow.sound()\n",
        "sheep = Sheep()\n",
        "sheep.sound()\n"
      ],
      "metadata": {
        "colab": {
          "base_uri": "https://localhost:8080/"
        },
        "id": "7sTOQP7PRCPj",
        "outputId": "418388ab-c202-4cbe-e56f-c63f76a6b6ce"
      },
      "execution_count": 16,
      "outputs": [
        {
          "output_type": "stream",
          "name": "stdout",
          "text": [
            "Cow Speaking\n",
            "Sheep Speaking\n"
          ]
        }
      ]
    },
    {
      "cell_type": "markdown",
      "source": [
        "17. Create a class Book with attributes title, author, and year_published. Add a method get_book_info() that\n",
        "returns a formatted string with the book's details.\n",
        "\n"
      ],
      "metadata": {
        "id": "RguknJr9Sh8c"
      }
    },
    {
      "cell_type": "code",
      "source": [
        "class Book():\n",
        "  def __init__(self,title,author,year_published):\n",
        "    self.title = title\n",
        "    self.author = author\n",
        "    self.year_published = year_published\n",
        "  def get_book_info(self):\n",
        "    return f\"{self.title} by {self.author}, published in the year: {self.year_published}\"\n",
        "\n",
        "book = Book(\"Pyhton\", \"Ajay Gupta\", 2025)\n",
        "print(book.get_book_info())\n"
      ],
      "metadata": {
        "colab": {
          "base_uri": "https://localhost:8080/"
        },
        "id": "8sr3v0Z6Si0b",
        "outputId": "c38d2ece-f714-46f2-b98e-c89bde6cf2df"
      },
      "execution_count": 18,
      "outputs": [
        {
          "output_type": "stream",
          "name": "stdout",
          "text": [
            "Pyhton by Ajay Gupta, published in the year: 2025\n"
          ]
        }
      ]
    },
    {
      "cell_type": "markdown",
      "source": [
        "18. Create a class House with attributes address and price. Create a derived class Mansion that adds an\n",
        "attribute number_of_rooms.\n"
      ],
      "metadata": {
        "id": "wgYrWMRzUE16"
      }
    },
    {
      "cell_type": "code",
      "source": [
        "class House():\n",
        "  def __init__(self,address,price):\n",
        "    self.address = address\n",
        "    self.price = price\n",
        "class Mansion(House):\n",
        "  def display(self,number_of_rooms):\n",
        "    self.number_of_rooms = number_of_rooms\n",
        "    print(f\"Address: {self.address}, Price: {self.price}, Number of Rooms: {self.number_of_rooms}\")\n",
        "house = Mansion(\"123 CP NEW DELHI\", 250000)\n",
        "house.display(5)"
      ],
      "metadata": {
        "colab": {
          "base_uri": "https://localhost:8080/"
        },
        "id": "MFC1eCRTUH-L",
        "outputId": "43d5415d-9355-4d16-a2e7-730500667bf8"
      },
      "execution_count": 19,
      "outputs": [
        {
          "output_type": "stream",
          "name": "stdout",
          "text": [
            "Address: 123 CP NEW DELHI, Price: 250000, Number of Rooms: 5\n"
          ]
        }
      ]
    },
    {
      "cell_type": "markdown",
      "source": [],
      "metadata": {
        "id": "xW6zELRfWdFL"
      }
    }
  ]
}