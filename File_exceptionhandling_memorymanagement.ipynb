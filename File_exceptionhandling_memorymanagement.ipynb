{
  "nbformat": 4,
  "nbformat_minor": 0,
  "metadata": {
    "colab": {
      "provenance": []
    },
    "kernelspec": {
      "name": "python3",
      "display_name": "Python 3"
    },
    "language_info": {
      "name": "python"
    }
  },
  "cells": [
    {
      "cell_type": "markdown",
      "source": [
        "1. What is the difference between interpreted language and compiled language  ?\n",
        "Ans. In Compiled Language, Code is translated (compiled) into machine code before it's run. It uses a compiler and generates an executable file. Typically faster, because it's already translated to machine code.\n",
        "\n",
        "\n",
        "Whereas in Interpreted Language, Code is executed line-by-line at runtime. It uses an interpreter.It runs directly from source. Usually slower, since it's translated on the fly."
      ],
      "metadata": {
        "id": "50gzEh4NcLuG"
      }
    },
    {
      "cell_type": "markdown",
      "source": [
        "2. What is exception handling in python ?\n",
        "Ans. Exception handling in Python is a way to deal with errors that may occur during the execution of a program, so the program doesn't crash unexpectedly.\n",
        "Instead of stopping the program when an error occurs, Python lets to catch the error and respond to it using special keywords like try, except, else, and finally. Here errors are exceptions."
      ],
      "metadata": {
        "id": "1wBgnbRXeAJf"
      }
    },
    {
      "cell_type": "markdown",
      "source": [
        "3. What is the purpose of finally block in exception handling ?\n",
        "Ans. Finally blocks executes always, irrespective of the exceptions."
      ],
      "metadata": {
        "id": "TFJM4HgUehfa"
      }
    },
    {
      "cell_type": "markdown",
      "source": [
        "4. What is logging in python ?\n",
        "Ans. Logging in Python is the process of recording events or messages from program — such as errors, warnings, or general info — so that one can understand what's happening in code during execution, especially when debugging or monitoring. Instead of using print() statements, Python provides the logging module to give more control and flexibility over how messages are recorded and displayed. Such as INFO, DEBUG, CRITICAL, WARNING, ERROR. Each having priority.\n",
        "\n"
      ],
      "metadata": {
        "id": "Sdcw4qSxe_w4"
      }
    },
    {
      "cell_type": "markdown",
      "source": [
        "5. What is the significance of __del__ method in python ?\n",
        "Ans. The __del__ method in Python is known as a destructor. It is a special method that is automatically called when an object is about to be destroyed."
      ],
      "metadata": {
        "id": "Yn3mHla1fx3l"
      }
    },
    {
      "cell_type": "markdown",
      "source": [
        "6. What is the difference between import and from .... import in python ?\n",
        "Ans. Import --> imports the entire module\n",
        "     From...Import --> imports the particular items or methods from that module."
      ],
      "metadata": {
        "id": "mHjt0VltgPfL"
      }
    },
    {
      "cell_type": "markdown",
      "source": [
        "7. How can you handle multiple exceptions in python ?\n",
        "Ans. There are multiple ways to handle exceptions in python. Multiple except blocks, Single except, except Exception as e\tand else and finally."
      ],
      "metadata": {
        "id": "lWygEQ3ZhF9x"
      }
    },
    {
      "cell_type": "markdown",
      "source": [
        "8. What is the purpose of with statement when handling files in python ?\n",
        "Ans. When working with files, you should always close them after you're done — to free system resources and avoid bugs. Using the with statement does this automatically."
      ],
      "metadata": {
        "id": "IgtWZDmVh4na"
      }
    },
    {
      "cell_type": "markdown",
      "source": [
        "9. What is difference between multithreading and multiprocessing ?\n",
        "Ans. Multithreading: Use it for tasks that are Input-Output bound and need to handle many tasks concurrently without heavy computation. Share memory between threads.Limited by the GIL (no true parallelism).\n",
        "\n",
        "Multiprocessing: Use it for tasks that are CPU-bound, where you need to make full use of multiple cores for parallel execution. Separate memory for each process. True parallelism (uses multiple cores)"
      ],
      "metadata": {
        "id": "Onbmlv9zieYz"
      }
    },
    {
      "cell_type": "markdown",
      "source": [
        "10. What are the advantages of using logging in program ?\n",
        "Ans. The logging module provides much more than print() statements. It allows to systematically track events, handle errors, and optimize performance. Whether we are debugging, auditing, or monitoring program, logging is an essential tool for efficient software development."
      ],
      "metadata": {
        "id": "dcMM-X_IjT2b"
      }
    },
    {
      "cell_type": "markdown",
      "source": [
        "11. What is memory management in python ?\n",
        "Ans. Memory management in Python refers to how Python interpreter allocates, tracks, and frees memory during the execution of a program. Python has built-in mechanisms to handle memory efficiently, and it is designed to abstract away the complexity of memory management from the programmer.\n"
      ],
      "metadata": {
        "id": "zCFVGw45j827"
      }
    },
    {
      "cell_type": "markdown",
      "source": [
        "12. What are the basic steps involved in exception handling in python ?\n",
        "Ans. Exception handling in Python is a structured way of dealing with runtime errors in program. Instead of letting the program crash, Python allows to catch and handle exceptions in a controlled manner. The basic steps involved in exception handling in Python are try, except, else and finally."
      ],
      "metadata": {
        "id": "WdoIfC7gkibc"
      }
    },
    {
      "cell_type": "markdown",
      "source": [
        "13. Why is memory management important in python ?\n",
        "Ans. In Python, memory management plays a vital role in ensuring that programs are efficient, scalable, and performant. While Python handles most of the memory management automatically through reference counting and garbage collection."
      ],
      "metadata": {
        "id": "wALd125ZlPsL"
      }
    },
    {
      "cell_type": "markdown",
      "source": [
        "14. What is the role of try and except in exception handling ?\n",
        "Ans. The role of the try block is to attempt execution of code that might fail due to various reasons, such as invalid input, dividing by zero, file not found, etc.If an exception occurs, Python immediately jumps to the corresponding except block.If no exception occurs, the program continues normally after the try block.\n",
        "The role of the except block is to define the action that should be taken when a specific exception occurs. We can specify the type of exception we want to catch (e.g., ValueError, ZeroDivisionError, etc.). If the exception raised in the try block matches the type mentioned in the except block, the corresponding except block will execute."
      ],
      "metadata": {
        "id": "a5BG0nIclvwa"
      }
    },
    {
      "cell_type": "markdown",
      "source": [
        "15. How does pythons garbbage collection system works ?\n",
        "Ans. Python’s garbage collection system ensures that memory is managed automatically, making it easier for developers to write robust, memory-efficient applications without needing to manually handle memory allocation and deallocation."
      ],
      "metadata": {
        "id": "UFsjzAO0mre5"
      }
    },
    {
      "cell_type": "markdown",
      "source": [
        "16. What is the purpose of else block in exception handling ?\n",
        "Ans. The else block in exception handling provides a place to write code that should only execute if no exceptions were raised in the try block."
      ],
      "metadata": {
        "id": "6ehRxCKonNBw"
      }
    },
    {
      "cell_type": "markdown",
      "source": [
        "17. What are the common logging levels in python ?\n",
        "Ans. The logging module defines five standard logging levels. These levels are used to indicate the severity of the events being logged. The levels are ordered from lowest to highest severity: DEBUG, INFO, WARNING, ERROR and CRITICAL."
      ],
      "metadata": {
        "id": "_gxxaqISngWI"
      }
    },
    {
      "cell_type": "markdown",
      "source": [
        "18. What is the difference between os.fork and multiprocessing in python ?\n",
        "Ans. os.fork is low-level system call in Unix-like systems (e.g., Linux, macOS) used to create a new child process by duplicating the current process. It is part of the os module and not available on Windows.\n",
        "Multiprocessing is a high-level, cross-platform module in Python’s standard library that provides an API for creating and managing processes. Designed to work on both Unix and Windows."
      ],
      "metadata": {
        "id": "bA4gZ069n8Ew"
      }
    },
    {
      "cell_type": "markdown",
      "source": [
        "19. What is the importance of closing a file in python ?\n",
        "Ans. It is necessary to close files either manually with .close() or automatically using with. It ensures your program is efficient, safe, and reliable. If it is open whatever we have written will not be saved until we closeit using .close()."
      ],
      "metadata": {
        "id": "BM_tzWHioj9x"
      }
    },
    {
      "cell_type": "markdown",
      "source": [
        "20. What is the difference between file.read() and file.readline() in python ?\n",
        "Ans. file.read() --> Reads the entire content of the file (or a specified number of characters) and returns it as a single string.\n",
        "\n",
        "file.readline()--> Reads only one line from the file at a time. If we call it repeatedly, it reads the next line each time."
      ],
      "metadata": {
        "id": "EjLtn1XIp5Qo"
      }
    },
    {
      "cell_type": "markdown",
      "source": [
        "21. What is logging module in python used for ?\n",
        "Ans. The logging module in Python is used to track events that happen while a program is running. It provides a flexible framework for recording debug messages, info, warnings, errors and critical issues."
      ],
      "metadata": {
        "id": "Ebh2z79ZqtHM"
      }
    },
    {
      "cell_type": "markdown",
      "source": [
        "22. What is the os module in python used for in file handling ?\n",
        "Ans. The os module in Python provides a way to interact with the operating system, including powerful tools for file and directory handling. When working with files, os helps you create, delete, rename, move, and navigate files and directories in a platform-independent way."
      ],
      "metadata": {
        "id": "lUE5ck_ZrGBC"
      }
    },
    {
      "cell_type": "markdown",
      "source": [
        "23. What are the challenges associated with memory management in python ?\n",
        "Ans. Python helps a lot with memory, but still we can't wait for it. Careful coding and monitoring are still essential—especially for large, long-running, or memory-sensitive applications.Challenges may be like we opened the file but didn't close it, using large data, etc"
      ],
      "metadata": {
        "id": "HPzAGtjErdFV"
      }
    },
    {
      "cell_type": "markdown",
      "source": [
        "24. How do you raise exception manually in pyhton ?\n",
        "Ans. In Python, we can raise an exception manually using the raise statement. This is useful when we want to indicate that something has gone wrong or enforce custom validation logic in the code."
      ],
      "metadata": {
        "id": "5mbr4Tu7rt0s"
      }
    },
    {
      "cell_type": "markdown",
      "source": [
        "25. Why is it important to use multithreading in certain applications ?\n",
        "Ans. Multithreading is important in certain applications because it allows a program to run multiple tasks concurrently, improving performance, responsiveness, and resource utilization, especially when dealing with Input-output-bound operations or tasks that can run in parallel.\n",
        "\n"
      ],
      "metadata": {
        "id": "GOuXtnmOtAKU"
      }
    },
    {
      "cell_type": "markdown",
      "source": [
        "1. How can you open a file for writing in python and write a string to it ?"
      ],
      "metadata": {
        "id": "pDIy3E0StjTq"
      }
    },
    {
      "cell_type": "code",
      "source": [
        "f = open(\"file.txt\",\"w\")\n",
        "f.write(\"Welcome to Practical Questions and Solutions\")\n",
        "f.close()"
      ],
      "metadata": {
        "id": "F-5k-mLXtyYH"
      },
      "execution_count": 7,
      "outputs": []
    },
    {
      "cell_type": "markdown",
      "source": [
        "2. Write a python program to read the contents of a file and print each line."
      ],
      "metadata": {
        "id": "pMU7qFQHuZZj"
      }
    },
    {
      "cell_type": "code",
      "source": [
        "f = open(\"file.txt\",\"r\")\n",
        "print(f.read())\n",
        "f.close()"
      ],
      "metadata": {
        "colab": {
          "base_uri": "https://localhost:8080/"
        },
        "id": "4I2neF04uo6X",
        "outputId": "36ea2345-1557-4e08-bc26-651a02769bb0"
      },
      "execution_count": 8,
      "outputs": [
        {
          "output_type": "stream",
          "name": "stdout",
          "text": [
            "Welcome to Practical Questions and Solutions\n"
          ]
        }
      ]
    },
    {
      "cell_type": "markdown",
      "source": [
        "3. How would you handle a case where the file doesn't exist while trying to open it for reading ?"
      ],
      "metadata": {
        "id": "abk8xZU1uyxA"
      }
    },
    {
      "cell_type": "code",
      "source": [
        "try:\n",
        "    with open(\"non_existing_file.txt\", \"r\") as file:\n",
        "        content = file.read()\n",
        "        print(content)\n",
        "\n",
        "except FileNotFoundError:\n",
        "    print(\"Error: The file does not exist.\")\n"
      ],
      "metadata": {
        "colab": {
          "base_uri": "https://localhost:8080/"
        },
        "id": "ZVtyNCZbwRV9",
        "outputId": "2e9355a3-c8cb-471b-b4db-0082aabe6069"
      },
      "execution_count": null,
      "outputs": [
        {
          "output_type": "stream",
          "name": "stdout",
          "text": [
            "Error: The file does not exist.\n"
          ]
        }
      ]
    },
    {
      "cell_type": "markdown",
      "source": [
        "4. Write a python script that reads fron one file and writes its content in another file."
      ],
      "metadata": {
        "id": "CczIigZDwedl"
      }
    },
    {
      "cell_type": "code",
      "source": [
        "\n",
        "with open(\"file.txt\", \"r\") as file1:\n",
        "    content = file1.read()\n",
        "\n",
        "with open(\"another_file.txt\", \"w\") as a_file:\n",
        "    a_file.write(content)\n",
        "\n",
        "print(\"Content copied successfully from 'file.txt' to 'another_file.txt'.\")\n"
      ],
      "metadata": {
        "colab": {
          "base_uri": "https://localhost:8080/"
        },
        "id": "H5NKY3K7w2e8",
        "outputId": "5c9d37a1-6715-43a6-f2a3-5a1823b194fa"
      },
      "execution_count": null,
      "outputs": [
        {
          "output_type": "stream",
          "name": "stdout",
          "text": [
            "Content copied successfully from 'file.txt' to 'another_file.txt'.\n"
          ]
        }
      ]
    },
    {
      "cell_type": "markdown",
      "source": [
        "5. How do you catch and handle division by zero error in python ?"
      ],
      "metadata": {
        "id": "wktyXaUCzRb8"
      }
    },
    {
      "cell_type": "code",
      "source": [
        "try:\n",
        "    numerator = 10\n",
        "    denominator = 0\n",
        "    result = numerator / denominator\n",
        "    print(f\"Result: {result}\")\n",
        "\n",
        "except ZeroDivisionError:\n",
        "    print(\"Error: Cannot divide by zero.\")\n"
      ],
      "metadata": {
        "colab": {
          "base_uri": "https://localhost:8080/"
        },
        "id": "rH4mZ8fyzwQS",
        "outputId": "d05d819f-d1fc-4a48-9d01-73492d798122"
      },
      "execution_count": null,
      "outputs": [
        {
          "output_type": "stream",
          "name": "stdout",
          "text": [
            "Error: Cannot divide by zero.\n"
          ]
        }
      ]
    },
    {
      "cell_type": "markdown",
      "source": [
        "6. Write a python program that logs an error meassage to a log file when a division by zero exception occurs."
      ],
      "metadata": {
        "id": "RaxGatfXnSyH"
      }
    },
    {
      "cell_type": "code",
      "source": [
        "import logging\n",
        "logging.basicConfig(filename='error_log.txt',level=logging.ERROR, format='%(asctime)s - %(levelname)s - %(message)s')\n",
        "\n",
        "def divide(a, b):\n",
        "    try:\n",
        "        result = a / b\n",
        "        print(\"Result is:\", result)\n",
        "    except ZeroDivisionError:\n",
        "        print(\"You can't divide by zero!\")\n",
        "        logging.error(\"Tried to divide by zero\")\n",
        "divide(10, 0)\n"
      ],
      "metadata": {
        "colab": {
          "base_uri": "https://localhost:8080/"
        },
        "id": "kE9VoGWHqAZ5",
        "outputId": "e1bd098b-4c1a-4204-f995-2e90e76b6d72"
      },
      "execution_count": 1,
      "outputs": [
        {
          "output_type": "stream",
          "name": "stderr",
          "text": [
            "ERROR:root:Tried to divide by zero\n"
          ]
        },
        {
          "output_type": "stream",
          "name": "stdout",
          "text": [
            "You can't divide by zero!\n"
          ]
        }
      ]
    },
    {
      "cell_type": "markdown",
      "source": [
        "7. How do you log information at different levels (INFO, ERROR,WARNING) in python using logging module ?"
      ],
      "metadata": {
        "id": "KL6L7QH7xDoB"
      }
    },
    {
      "cell_type": "code",
      "source": [
        "import logging\n",
        "logging.basicConfig(filename='app_log.txt',level=logging.DEBUG,format='%(asctime)s - %(levelname)s - %(message)s')\n",
        "logging.debug(\"This is a debug message.\")\n",
        "logging.info(\"This is an info message.\")\n",
        "logging.warning(\"This is a warning message.\")\n",
        "logging.error(\"This is an error message.\")\n",
        "logging.critical(\"This is a critical error message.\")\n"
      ],
      "metadata": {
        "colab": {
          "base_uri": "https://localhost:8080/"
        },
        "id": "iF0ZWFjqxZla",
        "outputId": "c8fc43bd-b1c5-4de4-e253-ea912b9f3014"
      },
      "execution_count": 4,
      "outputs": [
        {
          "output_type": "stream",
          "name": "stderr",
          "text": [
            "WARNING:root:This is a warning message.\n",
            "ERROR:root:This is an error message.\n",
            "CRITICAL:root:This is a critical error message.\n"
          ]
        }
      ]
    },
    {
      "cell_type": "markdown",
      "source": [
        "8. Write a program to handle a file opening error using exception handling."
      ],
      "metadata": {
        "id": "cmy_aurbx4b2"
      }
    },
    {
      "cell_type": "code",
      "source": [
        "try:\n",
        "    file = open('myfile.txt', 'r')\n",
        "    content = file.read()\n",
        "    print(\"File content:\")\n",
        "    print(content)\n",
        "    file.close()\n",
        "except FileNotFoundError:\n",
        "    print(\"Error: The file was not found.\")\n"
      ],
      "metadata": {
        "colab": {
          "base_uri": "https://localhost:8080/"
        },
        "id": "K6PyCUjjyFNv",
        "outputId": "4042518c-8d12-4332-d7be-02662113332a"
      },
      "execution_count": 5,
      "outputs": [
        {
          "output_type": "stream",
          "name": "stdout",
          "text": [
            "Error: The file was not found.\n"
          ]
        }
      ]
    },
    {
      "cell_type": "markdown",
      "source": [
        "9. How can you read a file line by line and store its content in a list ?"
      ],
      "metadata": {
        "id": "JeZBm21uyZ9r"
      }
    },
    {
      "cell_type": "code",
      "source": [
        "with open('file.txt', 'r') as file:\n",
        "    lines = file.readlines()\n",
        "print(lines)"
      ],
      "metadata": {
        "colab": {
          "base_uri": "https://localhost:8080/"
        },
        "id": "PYghJqgBys8U",
        "outputId": "44088573-9124-4144-efb7-c209171b5f8e"
      },
      "execution_count": 18,
      "outputs": [
        {
          "output_type": "stream",
          "name": "stdout",
          "text": [
            "['Welcome to Practical Questions and SolutionsThis is a new line.\\n', 'This is a new line.\\n', 'This is a new line.\\n']\n"
          ]
        }
      ]
    },
    {
      "cell_type": "markdown",
      "source": [
        "10. How can you append data to an existing file in python ?"
      ],
      "metadata": {
        "id": "UIkJH9Wm05KZ"
      }
    },
    {
      "cell_type": "code",
      "source": [
        "with open('file.txt', 'a') as file:\n",
        "    file.write(\"This is a new line.\\n\")\n"
      ],
      "metadata": {
        "id": "Qb8I7-df1GYC"
      },
      "execution_count": 17,
      "outputs": []
    },
    {
      "cell_type": "markdown",
      "source": [
        "11. Write a python program that uses try except block to handle an error when attempting ton access a dictionary key thatb doesn't exist."
      ],
      "metadata": {
        "id": "TLpzZXUb1Y6i"
      }
    },
    {
      "cell_type": "code",
      "source": [
        "person = {\"name\": \"Prince\",\"age\": 25}\n",
        "try:\n",
        "    print(\"City:\", person[\"city\"])\n",
        "except KeyError:\n",
        "    print(\"Error: That key does not exist in the dictionary.\")\n"
      ],
      "metadata": {
        "colab": {
          "base_uri": "https://localhost:8080/"
        },
        "id": "zgodxj542iZx",
        "outputId": "e5f40f33-2d5b-4fdf-b22b-80c7b18a6481"
      },
      "execution_count": 19,
      "outputs": [
        {
          "output_type": "stream",
          "name": "stdout",
          "text": [
            "Error: That key does not exist in the dictionary.\n"
          ]
        }
      ]
    },
    {
      "cell_type": "markdown",
      "source": [
        "12. Write a program that demonstrates using multiple except blocks to handle different type of executions."
      ],
      "metadata": {
        "id": "8Bx5VIfP2wLS"
      }
    },
    {
      "cell_type": "code",
      "source": [
        "try:\n",
        "    a = int(input(\"Enter the first number: \"))\n",
        "    b = int(input(\"Enter the second number: \"))\n",
        "\n",
        "    result = a / b\n",
        "    print(\"Result:\", result)\n",
        "\n",
        "    numbers = [10, 20, 30]\n",
        "    print(\"Fourth number in list:\", numbers[3])\n",
        "\n",
        "except ZeroDivisionError:\n",
        "    print(\"Error: You can't divide by zero.\")\n",
        "\n",
        "except ValueError:\n",
        "    print(\"Error: Please enter only numbers.\")\n",
        "\n",
        "except IndexError:\n",
        "    print(\"Error: List index out of range.\")\n",
        "\n",
        "except Exception as e:\n",
        "    print(\"An unexpected error occurred:\", e)\n"
      ],
      "metadata": {
        "colab": {
          "base_uri": "https://localhost:8080/"
        },
        "id": "3aETKSXe3LbU",
        "outputId": "65900e67-1cfc-4c1b-b2ed-3bf2e993ddc6"
      },
      "execution_count": 20,
      "outputs": [
        {
          "output_type": "stream",
          "name": "stdout",
          "text": [
            "Enter the first number: 52\n",
            "Enter the second number: 28\n",
            "Result: 1.8571428571428572\n",
            "Error: List index out of range.\n"
          ]
        }
      ]
    },
    {
      "cell_type": "markdown",
      "source": [
        "13. How would you check if a file exists before attempting to read in python."
      ],
      "metadata": {
        "id": "qZOrP1MI6zYK"
      }
    },
    {
      "cell_type": "code",
      "source": [
        "import os\n",
        "fname = 'file.txt'\n",
        "if os.path.exists(fname):\n",
        "    with open(fname, 'r') as file:\n",
        "        content = file.read()\n",
        "        print(\"File content:\")\n",
        "        print(content)\n",
        "else:\n",
        "    print(\"The file does not exist.\")\n"
      ],
      "metadata": {
        "colab": {
          "base_uri": "https://localhost:8080/"
        },
        "id": "t_BmQNyX7CDT",
        "outputId": "53f1d83a-d364-49f9-e32d-75330480dddb"
      },
      "execution_count": 24,
      "outputs": [
        {
          "output_type": "stream",
          "name": "stdout",
          "text": [
            "File content:\n",
            "Welcome to Practical Questions and SolutionsThis is a new line.\n",
            "This is a new line.\n",
            "This is a new line.\n",
            "\n"
          ]
        }
      ]
    },
    {
      "cell_type": "markdown",
      "source": [
        "14. Write a program that uses the logging module to log both informational and error messages."
      ],
      "metadata": {
        "id": "THfSLY8x7sy2"
      }
    },
    {
      "cell_type": "code",
      "source": [
        "import logging\n",
        "logging.basicConfig(filename='app.log',level=logging.DEBUG,format='%(asctime)s - %(levelname)s - %(message)s')\n",
        "def divide(a, b):\n",
        "    logging.info(f\"Trying to divide {a} by {b}\")\n",
        "    try:\n",
        "        result = a / b\n",
        "        logging.info(f\"Division successful. Result: {result}\")\n",
        "        return result\n",
        "    except ZeroDivisionError:\n",
        "        logging.error(\"Error: Tried to divide by zero.\")\n",
        "        return None\n",
        "logging.info(\"Program started\")\n",
        "result1 = divide(10, 2)\n",
        "result2 = divide(5, 0)\n",
        "logging.info(\"Program finished\")\n"
      ],
      "metadata": {
        "colab": {
          "base_uri": "https://localhost:8080/"
        },
        "id": "dr7Ef8sE8GBh",
        "outputId": "7df92481-20ef-4c37-b86b-5e7350a8d001"
      },
      "execution_count": 25,
      "outputs": [
        {
          "output_type": "stream",
          "name": "stderr",
          "text": [
            "ERROR:root:Error: Tried to divide by zero.\n"
          ]
        }
      ]
    },
    {
      "cell_type": "markdown",
      "source": [
        "15. Write a python program that prints the content of a file and handles the case when the file is empty."
      ],
      "metadata": {
        "id": "qqvx1HsY9fZK"
      }
    },
    {
      "cell_type": "code",
      "source": [
        "def read_file(fname):\n",
        "    try:\n",
        "        with open(fname, 'r') as file:\n",
        "            content = file.read()\n",
        "\n",
        "            if content.strip() == \"\":\n",
        "                print(\"The file is empty.\")\n",
        "            else:\n",
        "                print(\"File content:\\n\")\n",
        "                print(content)\n",
        "\n",
        "    except FileNotFoundError:\n",
        "        print(f\"Error: The file '{fname}' was not found.\")\n",
        "\n",
        "read_file('file.txt')\n"
      ],
      "metadata": {
        "colab": {
          "base_uri": "https://localhost:8080/"
        },
        "id": "xBR-HcYL94ky",
        "outputId": "96156fec-b0b3-47ee-e8c3-547a3a6f19fc"
      },
      "execution_count": 27,
      "outputs": [
        {
          "output_type": "stream",
          "name": "stdout",
          "text": [
            "File content:\n",
            "\n",
            "Welcome to Practical Questions and SolutionsThis is a new line.\n",
            "This is a new line.\n",
            "This is a new line.\n",
            "\n"
          ]
        }
      ]
    },
    {
      "cell_type": "markdown",
      "source": [
        "16. Demonstrate how to use memory profiling to check the memory usage of a small program."
      ],
      "metadata": {
        "id": "D2SlbY-8DA8u"
      }
    },
    {
      "cell_type": "code",
      "metadata": {
        "colab": {
          "base_uri": "https://localhost:8080/"
        },
        "id": "5f1826db",
        "outputId": "f3b0d3a0-6c90-4bbe-b5c0-4cee868c82d3"
      },
      "source": [
        "!pip install memory-profiler"
      ],
      "execution_count": 29,
      "outputs": [
        {
          "output_type": "stream",
          "name": "stdout",
          "text": [
            "Collecting memory-profiler\n",
            "  Downloading memory_profiler-0.61.0-py3-none-any.whl.metadata (20 kB)\n",
            "Requirement already satisfied: psutil in /usr/local/lib/python3.11/dist-packages (from memory-profiler) (5.9.5)\n",
            "Downloading memory_profiler-0.61.0-py3-none-any.whl (31 kB)\n",
            "Installing collected packages: memory-profiler\n",
            "Successfully installed memory-profiler-0.61.0\n"
          ]
        }
      ]
    },
    {
      "cell_type": "code",
      "source": [
        "from memory_profiler import profile\n",
        "\n",
        "@profile\n",
        "def create_large_list():\n",
        "    my_list = [i * 2 for i in range(1000000)]  # Creates a large list\n",
        "    return sum(my_list)\n",
        "\n",
        "if __name__ == '__main__':\n",
        "    create_large_list()"
      ],
      "metadata": {
        "colab": {
          "base_uri": "https://localhost:8080/"
        },
        "id": "pQlVLUeaD3uB",
        "outputId": "0e525aba-3360-4a0d-8308-0b0f25d18486"
      },
      "execution_count": 30,
      "outputs": [
        {
          "output_type": "stream",
          "name": "stderr",
          "text": [
            "\n",
            "PYDEV DEBUGGER WARNING:\n",
            "sys.settrace() should not be used when the debugger is being used.\n",
            "This may cause the debugger to stop working correctly.\n",
            "If this is needed, please check: \n",
            "http://pydev.blogspot.com/2007/06/why-cant-pydev-debugger-work-with.html\n",
            "to see how to restore the debug tracing back correctly.\n",
            "Call Location:\n",
            "  File \"/usr/local/lib/python3.11/dist-packages/memory_profiler.py\", line 847, in enable\n",
            "    sys.settrace(self.trace_memory_usage)\n",
            "\n"
          ]
        },
        {
          "output_type": "stream",
          "name": "stdout",
          "text": [
            "ERROR: Could not find file /tmp/ipython-input-30-2105233089.py\n"
          ]
        },
        {
          "output_type": "stream",
          "name": "stderr",
          "text": [
            "\n",
            "PYDEV DEBUGGER WARNING:\n",
            "sys.settrace() should not be used when the debugger is being used.\n",
            "This may cause the debugger to stop working correctly.\n",
            "If this is needed, please check: \n",
            "http://pydev.blogspot.com/2007/06/why-cant-pydev-debugger-work-with.html\n",
            "to see how to restore the debug tracing back correctly.\n",
            "Call Location:\n",
            "  File \"/usr/local/lib/python3.11/dist-packages/memory_profiler.py\", line 850, in disable\n",
            "    sys.settrace(self._original_trace_function)\n",
            "\n"
          ]
        }
      ]
    },
    {
      "cell_type": "markdown",
      "source": [
        "17. Write a python program to create and write a list of numbers to a file, one number per line."
      ],
      "metadata": {
        "id": "xuVXwGkMD_c3"
      }
    },
    {
      "cell_type": "code",
      "source": [
        "numbers = [10, 20, 30, 40, 50]\n",
        "with open('numbers.txt', 'w') as file:\n",
        "    for number in numbers:\n",
        "        file.write(str(number) + '\\n')\n",
        "\n",
        "print(\"Numbers have been written to 'numbers.txt'\")"
      ],
      "metadata": {
        "colab": {
          "base_uri": "https://localhost:8080/"
        },
        "id": "gKf8-LNhEbbI",
        "outputId": "f43b0ed9-0050-4bc2-d56d-cae3b7cf6b6e"
      },
      "execution_count": 31,
      "outputs": [
        {
          "output_type": "stream",
          "name": "stdout",
          "text": [
            "Numbers have been written to 'numbers.txt'\n"
          ]
        }
      ]
    },
    {
      "cell_type": "markdown",
      "source": [
        "18. How would you implement a basic logging setup that logs to a file with rotation after 1mb ?"
      ],
      "metadata": {
        "id": "gFm-w5PLGrkd"
      }
    },
    {
      "cell_type": "code",
      "source": [
        "import logging\n",
        "from logging.handlers import RotatingFileHandler\n",
        "log_file = 'my_log.log'\n",
        "handler = RotatingFileHandler(log_file, maxBytes=1 * 1024 * 1024, backupCount=2)\n",
        "formatter = logging.Formatter('%(asctime)s - %(levelname)s - %(message)s')\n",
        "handler.setFormatter(formatter)\n",
        "logger = logging.getLogger()\n",
        "logger.setLevel(logging.INFO)\n",
        "logger.addHandler(handler)\n",
        "for i in range(10):\n",
        "    logger.info(f\"This is log message number {i}\")\n",
        "\n"
      ],
      "metadata": {
        "colab": {
          "base_uri": "https://localhost:8080/"
        },
        "id": "LO1aCdvbHDJc",
        "outputId": "40995f47-5ea2-4dc4-8607-ac602d17cfad"
      },
      "execution_count": 33,
      "outputs": [
        {
          "output_type": "stream",
          "name": "stderr",
          "text": [
            "INFO:root:This is log message number 0\n",
            "INFO:root:This is log message number 1\n",
            "INFO:root:This is log message number 2\n",
            "INFO:root:This is log message number 3\n",
            "INFO:root:This is log message number 4\n",
            "INFO:root:This is log message number 5\n",
            "INFO:root:This is log message number 6\n",
            "INFO:root:This is log message number 7\n",
            "INFO:root:This is log message number 8\n",
            "INFO:root:This is log message number 9\n"
          ]
        }
      ]
    },
    {
      "cell_type": "markdown",
      "source": [
        "19. Write a program that handles both indexerror and keyerror using a try-except block."
      ],
      "metadata": {
        "id": "9OVIKHNUJLEP"
      }
    },
    {
      "cell_type": "code",
      "source": [
        "def handle_errors():\n",
        "    my_list = [10, 20, 30]\n",
        "    my_dict = {\"name\": \"Alice\", \"age\": 25}\n",
        "    try:\n",
        "        print(\"Accessing list index 5:\", my_list[5])\n",
        "        print(\"Accessing dictionary key 'city':\", my_dict[\"city\"])\n",
        "    except IndexError:\n",
        "        print(\"Error: That list index does not exist.\")\n",
        "    except KeyError:\n",
        "        print(\"Error: That key does not exist in the dictionary.\")\n",
        "handle_errors()\n"
      ],
      "metadata": {
        "id": "x4za5AY9Jbp3",
        "outputId": "dafd078d-ce5b-4bdc-e1d3-2e335ea630ac",
        "colab": {
          "base_uri": "https://localhost:8080/"
        }
      },
      "execution_count": 34,
      "outputs": [
        {
          "output_type": "stream",
          "name": "stdout",
          "text": [
            "Error: That list index does not exist.\n"
          ]
        }
      ]
    },
    {
      "cell_type": "markdown",
      "source": [
        "20. How would you open a file and read its content using a context manager in python ?"
      ],
      "metadata": {
        "id": "rXT2joU1KYMa"
      }
    },
    {
      "cell_type": "code",
      "source": [
        "with open('example.txt', 'r') as file:\n",
        "    content = file.read()\n",
        "    print(content)"
      ],
      "metadata": {
        "id": "W8wWPODRKncJ"
      },
      "execution_count": null,
      "outputs": []
    },
    {
      "cell_type": "markdown",
      "source": [
        "21. Write a python program that reads a file and prints the number of occurrences of a specific word."
      ],
      "metadata": {
        "id": "bz91hjFEK_1p"
      }
    },
    {
      "cell_type": "code",
      "source": [
        "def count_word_in_file(fname, word_to_count):\n",
        "    try:\n",
        "        with open(fname, 'r') as file:\n",
        "            content = file.read()\n",
        "            content = content.lower()\n",
        "            word_to_count = word_to_count.lower()\n",
        "            words = content.split()\n",
        "            count = words.count(word_to_count)\n",
        "            print(f\"The word '{word_to_count}' appears {count} times in the file.\")\n",
        "    except FileNotFoundError:\n",
        "        print(f\"Error: The file '{fname}' was not found.\")\n",
        "count_word_in_file('file.txt', 'new')\n"
      ],
      "metadata": {
        "id": "P_3wLXyMLSnx",
        "outputId": "74f9ebbc-cb42-48bb-f41a-44f9c0fc965f",
        "colab": {
          "base_uri": "https://localhost:8080/"
        }
      },
      "execution_count": 37,
      "outputs": [
        {
          "output_type": "stream",
          "name": "stdout",
          "text": [
            "The word 'new' appears 3 times in the file.\n"
          ]
        }
      ]
    },
    {
      "cell_type": "markdown",
      "source": [
        "22. How can you check if a file is empty before attempting to read its contents ?"
      ],
      "metadata": {
        "id": "4XUjPoYTbpa1"
      }
    },
    {
      "cell_type": "code",
      "source": [
        "import os\n",
        "fname = 'example.txt'\n",
        "if os.path.exists(fname) and os.path.getsize(fname) > 0:\n",
        "    with open(fname, 'r') as file:\n",
        "        content = file.read()\n",
        "        print(\"File content:\")\n",
        "        print(content)\n",
        "else:\n",
        "    print(\"The file is empty or does not exist.\")\n"
      ],
      "metadata": {
        "id": "Q6PeE2Mgcf59",
        "outputId": "2e9310ac-b186-4c06-f768-b16c81fb1858",
        "colab": {
          "base_uri": "https://localhost:8080/"
        }
      },
      "execution_count": 38,
      "outputs": [
        {
          "output_type": "stream",
          "name": "stdout",
          "text": [
            "File content:\n",
            "This is a new line.\n",
            "\n"
          ]
        }
      ]
    },
    {
      "cell_type": "markdown",
      "source": [
        "23. Write a python program that writes to a log file when an error occurs during file handling."
      ],
      "metadata": {
        "id": "da2mFGQQc_rV"
      }
    },
    {
      "cell_type": "code",
      "source": [
        "import logging\n",
        "logging.basicConfig(fname='file_errors.log', level=logging.ERROR, format='%(asctime)s - %(levelname)s - %(message)s')\n",
        "\n",
        "def read_file(fname):\n",
        "  try:\n",
        "    with open(fname, 'r') as file:\n",
        "      content = file.read()\n",
        "      print(\"File content:\")\n",
        "      print(content)\n",
        "  except FileNotFoundError:\n",
        "    print(f\"Error: The file '{fname}' was not found.\")\n",
        "    logging.error(f\"File not found: {fname}\")\n",
        "  except Exception as e:\n",
        "    print(f\"An error occurred: {e}\")\n",
        "    logging.error(f\"Unexpected error reading '{fname}': {e}\")\n",
        "\n",
        "read_file('my_missing_file.txt')"
      ],
      "metadata": {
        "id": "5AKXKbboeKOl",
        "outputId": "4ab95179-1a04-4b9f-8ac8-2ae4551eeed9",
        "colab": {
          "base_uri": "https://localhost:8080/"
        }
      },
      "execution_count": 39,
      "outputs": [
        {
          "output_type": "stream",
          "name": "stderr",
          "text": [
            "ERROR:root:File not found: my_missing_file.txt\n"
          ]
        },
        {
          "output_type": "stream",
          "name": "stdout",
          "text": [
            "Error: The file 'my_missing_file.txt' was not found.\n"
          ]
        }
      ]
    }
  ]
}