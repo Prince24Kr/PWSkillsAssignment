{
  "nbformat": 4,
  "nbformat_minor": 0,
  "metadata": {
    "colab": {
      "provenance": []
    },
    "kernelspec": {
      "name": "python3",
      "display_name": "Python 3"
    },
    "language_info": {
      "name": "python"
    }
  },
  "cells": [
    {
      "cell_type": "markdown",
      "source": [
        "1. What is the difference between descriptive statistics and inferential\n",
        "statistics? Explain with examples.\n",
        "Ans. Descriptive statistics and inferential statistics are two fundamental branches of statistics that serve different purposes in analyzing data. Descriptive statistics focus on summarizing and organizing data in a way that is easy to understand. This includes measures such as mean, median, mode, standard deviation, and the use of charts or graphs. For example, if a teacher calculates the average score of her class on a math test and presents the data in a bar chart, she is using descriptive statistics to convey what the data shows without making predictions or generalizations.\n",
        "\n",
        "\n",
        "In contrast, inferential statistics involve making predictions or drawing conclusions about a larger population based on a sample of data. This branch includes techniques such as hypothesis testing, confidence intervals, and regression analysis. For instance, if a researcher surveys 200 people about their voting preferences and then uses that sample to predict the outcome of a national election, they are using inferential statistics. In summary, descriptive statistics help describe what is known, while inferential statistics help us make informed guesses about what is not directly observed."
      ],
      "metadata": {
        "id": "mErPK1qSF__D"
      }
    },
    {
      "cell_type": "markdown",
      "source": [
        "2. What is sampling in statistics? Explain the differences between random\n",
        "and stratified sampling.\n",
        "Ans. Sampling in statistics is the process of selecting a subset of individuals or items (called a sample) from a larger group (called a population) to make observations and draw conclusions about the entire population. Since it is often impractical or impossible to collect data from every member of a population, sampling allows researchers to study a smaller, manageable group and generalize the findings.\n",
        "\n",
        "There are different methods of sampling, and two common ones are random sampling and stratified sampling.\n",
        "\n",
        "Random sampling is a method where every individual in the population has an equal chance of being selected. This helps reduce bias and ensures that the sample represents the population fairly. For example, if a school wants to survey 50 students out of 500, and each student is chosen using a random number generator, that is random sampling.\n",
        "\n",
        "On the other hand, stratified sampling involves dividing the population into different subgroups or \"strata\" based on a specific characteristic (such as age, gender, or income level), and then randomly selecting samples from each group. This method ensures that each subgroup is properly represented in the final sample. For example, if a researcher wants to study opinions in a town where 60% of the population is female and 40% is male, they might divide the population into those two groups and randomly select participants from each group in the same proportion."
      ],
      "metadata": {
        "id": "8gxiwPV6Gcqy"
      }
    },
    {
      "cell_type": "markdown",
      "source": [
        "3. Define mean, median, and mode. Explain why these measures of central tendency are important.\n",
        "Ans. Mean, median, and mode are the three most commonly used measures of central tendency in statistics. They help summarize a set of data by identifying the center point or typical value.\n",
        "\n",
        "The mean, often called the average, is calculated by adding all the values in a dataset and dividing the total by the number of values. For example, if the test scores of five students are 70, 75, 80, 85, and 90, the mean is (70 + 75 + 80 + 85 + 90) ÷ 5 = 80.\n",
        "\n",
        "The median is the middle value when the data is arranged in ascending or descending order. If there is an even number of values, the median is the average of the two middle numbers. Using the same example, the median is 80 because it is the third value in the ordered list. If there were only four scores, say 70, 75, 85, and 90, the median would be (75 + 85) ÷ 2 = 80.\n",
        "\n",
        "The mode is the value that appears most frequently in a dataset. A set of numbers can have no mode, one mode, or more than one mode. For instance, in the dataset 70, 75, 75, 80, 85, the mode is 75 because it appears twice, more than any other number.\n",
        "\n",
        "These measures of central tendency are important because they provide different perspectives on the \"center\" of the data. The mean is useful for numerical data with relatively even distribution, but it can be affected by extreme values (outliers). The median is helpful when data is skewed or contains outliers, as it is not influenced by extremely high or low values. The mode is useful for identifying the most common or frequent item in a dataset, especially with categorical data. Together, these measures help us better understand, interpret, and compare data sets."
      ],
      "metadata": {
        "id": "oMkmH-pWG-ib"
      }
    },
    {
      "cell_type": "markdown",
      "source": [
        "4. Explain skewness and kurtosis. What does a positive skew imply about the data?\n",
        "Ans. Skewness tells us about the direction of asymmetry. Positive skew implies that the data has a longer tail on the right, meaning a few high values are pulling the mean upward.\n",
        "\n",
        "Kurtosis tells us about the presence of outliers and the shape of the peak."
      ],
      "metadata": {
        "id": "wkLJ9xC8Hovy"
      }
    },
    {
      "cell_type": "markdown",
      "source": [
        "5. Implement a Python program to compute the mean, median, and mode of a given list of numbers."
      ],
      "metadata": {
        "id": "5Z0cdmulH9QR"
      }
    },
    {
      "cell_type": "code",
      "source": [
        "import numpy as np\n",
        "from collections import Counter\n",
        "\n",
        "data = [10, 20, 20, 30, 40, 50, 60]\n",
        "\n",
        "data_array = np.array(data)\n",
        "\n",
        "mean = np.mean(data_array)\n",
        "\n",
        "median = np.median(data_array)\n",
        "\n",
        "frequency = Counter(data_array)\n",
        "max_count = max(frequency.values())\n",
        "modes = [k for k, v in frequency.items() if v == max_count]\n",
        "\n",
        "print(\"Data:\", data)\n",
        "print(\"Mean:\", mean)\n",
        "print(\"Median:\", median)\n",
        "if len(modes) == 1:\n",
        "    print(\"Mode:\", modes[0])\n",
        "else:\n",
        "    print(\"Mode: No unique mode (multiple modes found)\", modes)\n"
      ],
      "metadata": {
        "colab": {
          "base_uri": "https://localhost:8080/"
        },
        "id": "WXv_IA-FIJ4A",
        "outputId": "c7212ff9-f201-488b-e3cf-a0d90fde2452"
      },
      "execution_count": 1,
      "outputs": [
        {
          "output_type": "stream",
          "name": "stdout",
          "text": [
            "Data: [10, 20, 20, 30, 40, 50, 60]\n",
            "Mean: 32.857142857142854\n",
            "Median: 30.0\n",
            "Mode: 20\n"
          ]
        }
      ]
    },
    {
      "cell_type": "markdown",
      "source": [
        "6. Compute the covariance and correlation coefficient between the following\n",
        "two datasets provided as lists in Python:\n",
        "list_x = [10, 20, 30, 40, 50]\n",
        "list_y = [15, 25, 35, 45, 60]"
      ],
      "metadata": {
        "id": "wxVMeDINJXhY"
      }
    },
    {
      "cell_type": "code",
      "source": [
        "import numpy as np\n",
        "\n",
        "list_x = [10, 20, 30, 40, 50]\n",
        "list_y = [15, 25, 35, 45, 60]\n",
        "\n",
        "x = np.array(list_x)\n",
        "y = np.array(list_y)\n",
        "\n",
        "cov_matrix = np.cov(x, y, bias=False)\n",
        "covariance = cov_matrix[0, 1]\n",
        "correlation = np.corrcoef(x, y)[0, 1]\n",
        "print(\"Covariance:\", covariance)\n",
        "print(\"Correlation Coefficient:\", correlation)\n"
      ],
      "metadata": {
        "colab": {
          "base_uri": "https://localhost:8080/"
        },
        "id": "6TYy3CmhJl6b",
        "outputId": "1ba83cb5-9181-4861-8dac-1a6ebd882cff"
      },
      "execution_count": 2,
      "outputs": [
        {
          "output_type": "stream",
          "name": "stdout",
          "text": [
            "Covariance: 275.0\n",
            "Correlation Coefficient: 0.995893206467704\n"
          ]
        }
      ]
    },
    {
      "cell_type": "markdown",
      "source": [
        "7. Write a Python script to draw a boxplot for the following numeric list and\n",
        "identify its outliers. Explain the result:\n",
        "data = [12, 14, 14, 15, 18, 19, 19, 21, 22, 22, 23, 23, 24, 26, 29, 35]"
      ],
      "metadata": {
        "id": "w7SrcSbhJ3Yv"
      }
    },
    {
      "cell_type": "code",
      "source": [
        "import matplotlib.pyplot as plt\n",
        "import numpy as np\n",
        "\n",
        "data = [12, 14, 14, 15, 18, 19, 19, 21, 22, 22, 23, 23, 24, 26, 29, 35]\n",
        "\n",
        "plt.boxplot(data, vert=False, patch_artist=True, boxprops=dict(facecolor='lightblue'))\n",
        "plt.title(\"Boxplot of Data\")\n",
        "plt.xlabel(\"Values\")\n",
        "plt.grid(True)\n",
        "plt.show()\n",
        "\n",
        "q1 = np.percentile(data, 25)\n",
        "q3 = np.percentile(data, 75)\n",
        "iqr = q3 - q1\n",
        "\n",
        "lower_bound = q1 - 1.5 * iqr\n",
        "upper_bound = q3 + 1.5 * iqr\n",
        "\n",
        "outliers = [x for x in data if x < lower_bound or x > upper_bound]\n",
        "\n",
        "print(\"Q1 (25th percentile):\", q1)\n",
        "print(\"Q3 (75th percentile):\", q3)\n",
        "print(\"IQR (Q3 - Q1):\", iqr)\n",
        "print(\"Lower bound:\", lower_bound)\n",
        "print(\"Upper bound:\", upper_bound)\n",
        "print(\"Outliers:\", outliers)\n"
      ],
      "metadata": {
        "colab": {
          "base_uri": "https://localhost:8080/",
          "height": 576
        },
        "id": "tXIfS5o_J_rJ",
        "outputId": "c3e4623a-84a7-484e-83ed-1ccccb3e4e54"
      },
      "execution_count": 3,
      "outputs": [
        {
          "output_type": "display_data",
          "data": {
            "text/plain": [
              "<Figure size 640x480 with 1 Axes>"
            ],
            "image/png": "[encoded data removed]"
          },
          "metadata": {}
        },
        {
          "output_type": "stream",
          "name": "stdout",
          "text": [
            "Q1 (25th percentile): 17.25\n",
            "Q3 (75th percentile): 23.25\n",
            "IQR (Q3 - Q1): 6.0\n",
            "Lower bound: 8.25\n",
            "Upper bound: 32.25\n",
            "Outliers: [35]\n"
          ]
        }
      ]
    },
    {
      "cell_type": "markdown",
      "source": [
        "8. You are working as a data analyst in an e-commerce company. The\n",
        "marketing team wants to know if there is a relationship between advertising spend and\n",
        "daily sales.\n",
        "● Explain how you would use covariance and correlation to explore this\n",
        "relationship.\n",
        "● Write Python code to compute the correlation between the two lists:\n",
        "advertising_spend = [200, 250, 300, 400, 500]\n",
        "daily_sales = [2200, 2450, 2750, 3200, 4000]"
      ],
      "metadata": {
        "id": "lKqQSKclKQEI"
      }
    },
    {
      "cell_type": "markdown",
      "source": [
        "Ans.\n",
        "Covariance is a measure of the direction of the relationship between two variables. It tells us whether two variables tend to increase or decrease together. If the covariance is positive, it means that as one variable increases, the other variable also tends to increase (i.e., a positive relationship). If the covariance is negative, it indicates an inverse relationship, where one variable increases while the other decreases. If the covariance is close to zero, it suggests that there is no significant relationship between the two variables.\n",
        "However, covariance has no standardized unit, so it’s hard to compare it across different datasets or contexts.\n",
        "\n",
        "Correlation, specifically Pearson correlation coefficient, measures both the strength and the direction of the linear relationship between two variables. It is a normalized version of covariance and ranges from -1 to 1: A correlation of 1 indicates a perfect positive linear relationship. A correlation of -1 indicates a perfect negative linear relationship. A correlation of 0 suggests no linear relationship.Because correlation is scaled between -1 and 1, it provides a more interpretable measure compared to covariance.\n",
        "\n",
        "Steps for Analysis:\n",
        "Covariance: First, calculate the covariance to check if there’s any relationship between advertising spend and daily sales.\n",
        "\n",
        "Correlation: Compute the correlation coefficient to understand the strength and direction of the relationship.\n",
        "\n"
      ],
      "metadata": {
        "id": "nsubo8LRKz7n"
      }
    },
    {
      "cell_type": "code",
      "source": [
        "import numpy as np\n",
        "\n",
        "advertising_spend = [200, 250, 300, 400, 500]\n",
        "daily_sales = [2200, 2450, 2750, 3200, 4000]\n",
        "\n",
        "correlation = np.corrcoef(advertising_spend, daily_sales)[0, 1]\n",
        "\n",
        "print(\"Correlation coefficient:\", correlation)\n"
      ],
      "metadata": {
        "colab": {
          "base_uri": "https://localhost:8080/"
        },
        "id": "LJINA_y7KUgn",
        "outputId": "0e87a37b-5342-4033-a5b7-4748e5a0a173"
      },
      "execution_count": 4,
      "outputs": [
        {
          "output_type": "stream",
          "name": "stdout",
          "text": [
            "Correlation coefficient: 0.9935824101653329\n"
          ]
        }
      ]
    },
    {
      "cell_type": "markdown",
      "source": [
        "9. Your team has collected customer satisfaction survey data on a scale of\n",
        "1-10 and wants to understand its distribution before launching a new product.\n",
        "● Explain which summary statistics and visualizations (e.g. mean, standard\n",
        "deviation, histogram) you’d use.\n",
        "● Write Python code to create a histogram using Matplotlib for the survey data:\n",
        "survey_scores = [7, 8, 5, 9, 6, 7, 8, 9, 10, 4, 7, 6, 9, 8, 7]"
      ],
      "metadata": {
        "id": "2ZgRXPMxLaL_"
      }
    },
    {
      "cell_type": "markdown",
      "source": [
        "Ans. Mean (Average): The mean gives a measure of the central value of the survey scores. It tells us where the \"center\" of the data lies.\n",
        "\n",
        "Median: The median provides the middle value when the data is ordered. It's useful for understanding the center, especially if the data is skewed or has outliers.\n",
        "\n",
        "Mode: The mode tells us the most frequent score, providing insight into the most common customer satisfaction level.\n",
        "\n",
        "Standard Deviation: This statistic measures how much the scores deviate from the mean. A high standard deviation suggests that there is significant variation in customer satisfaction, while a low standard deviation means the responses are more consistent.\n",
        "\n",
        "Range: The range is the difference between the highest and lowest scores. It gives a sense of the spread of the data.\n",
        "\n",
        "Visualizations to Use:\n",
        "Histogram: A histogram is a great way to visualize the distribution of scores. It shows how frequently each score (or range of scores) appears in the dataset.\n",
        "\n",
        "Boxplot (optional): A boxplot can provide a summary of the minimum, first quartile (Q1), median, third quartile (Q3), and maximum. It also helps to identify potential outliers."
      ],
      "metadata": {
        "id": "TM5IRb-wLnun"
      }
    },
    {
      "cell_type": "code",
      "source": [
        "import numpy as np\n",
        "import matplotlib.pyplot as plt\n",
        "\n",
        "survey_scores = [7, 8, 5, 9, 6, 7, 8, 9, 10, 4, 7, 6, 9, 8, 7]\n",
        "\n",
        "mean_score = np.mean(survey_scores)\n",
        "median_score = np.median(survey_scores)\n",
        "mode_score = max(set(survey_scores), key=survey_scores.count)\n",
        "std_dev = np.std(survey_scores)\n",
        "range_score = max(survey_scores) - min(survey_scores)\n",
        "\n",
        "print(f\"Mean: {mean_score}\")\n",
        "print(f\"Median: {median_score}\")\n",
        "print(f\"Mode: {mode_score}\")\n",
        "print(f\"Standard Deviation: {std_dev}\")\n",
        "print(f\"Range: {range_score}\")\n",
        "\n",
        "plt.figure(figsize=(8, 6))\n",
        "plt.hist(survey_scores, bins=range(1, 12), edgecolor='black', alpha=0.7)\n",
        "plt.title('Customer Satisfaction Survey Distribution')\n",
        "plt.xlabel('Score')\n",
        "plt.ylabel('Frequency')\n",
        "plt.xticks(range(1, 11))\n",
        "plt.grid(True)\n",
        "plt.show()\n"
      ],
      "metadata": {
        "colab": {
          "base_uri": "https://localhost:8080/",
          "height": 651
        },
        "id": "6ETCQa2mLj04",
        "outputId": "255f3e20-5d7d-4287-e848-1b597dee0ef2"
      },
      "execution_count": 5,
      "outputs": [
        {
          "output_type": "stream",
          "name": "stdout",
          "text": [
            "Mean: 7.333333333333333\n",
            "Median: 7.0\n",
            "Mode: 7\n",
            "Standard Deviation: 1.577621275493231\n",
            "Range: 6\n"
          ]
        },
        {
          "output_type": "display_data",
          "data": {
            "text/plain": [
              "<Figure size 800x600 with 1 Axes>"
            ],
            "image/png": "[encoded data removed]"
          },
          "metadata": {}
        }
      ]
    }
  ]
}